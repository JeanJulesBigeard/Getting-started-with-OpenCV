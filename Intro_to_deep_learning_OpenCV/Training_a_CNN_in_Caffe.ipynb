{
 "cells": [
  {
   "cell_type": "markdown",
   "metadata": {
    "colab_type": "text",
    "id": "bL4pci2HtO3H"
   },
   "source": [
    "# <font color='blue'>Training a CNN in Caffe</font>"
   ]
  },
  {
   "cell_type": "markdown",
   "metadata": {
    "colab_type": "text",
    "id": "yeSK3fumyQCs"
   },
   "source": [
    "# <font color='blue'>1. Overview</font>\n",
    "\n",
    "Caffe is a deep learning framework developed by the Berkeley Vision and Learning Center ( BVLC ). It is written primarily in C++, but also provide python and matlab wrappers. It has been widely used for training Convolutional Neural Networks. It provides a very simple interface for training and fine-tuning Neural Networks. We will discuss how to train a CNN using Caffe on Colab. The same instructions can be followed for any other system ( your own computer or AWS ).\n",
    "\n",
    "<font color='red'>Note:</font> Before proceeding, open up a new notebook in Colab and change the runtime to Python 3 and GPU.\n",
    "\n",
    "<font color='red'>Also, remember that if you need to restart your runtime or it restarts on its own, all variables and imported modules will be reset. Only the downloaded data will be intact. So, if you get any error, keep this in mind.</font>"
   ]
  },
  {
   "cell_type": "markdown",
   "metadata": {
    "colab_type": "text",
    "id": "QlkF6iDq7pLY"
   },
   "source": [
    "# <font color='blue'>2. Installation</font>"
   ]
  },
  {
   "cell_type": "markdown",
   "metadata": {
    "colab_type": "text",
    "id": "4g622Cqv7vrL"
   },
   "source": [
    "## <font color='blue'>2.1. Installation on Colab</font>\n",
    "\n",
    "For using shell commands from the notebook itself, you have to prepend the command with an \"`!`\".\n",
    "\n",
    "\n",
    "```\n",
    "!sudo apt-get install caffe-cuda\n",
    "```\n",
    "Shell command can also run using cell magic.\n",
    "\n",
    "```\n",
    "%%bash\n",
    "sudo apt-get install caffe-cuda\n",
    "```\n",
    "##### <font color='blue'>Note for local installation:</font>\n",
    "If you have ubuntu 17.04 or higher, you can use the same command as above.\n",
    "```\n",
    "sudo apt-get install caffe-cuda \n",
    "```\n",
    "This will install the GPU version of Caffe on the system. \n",
    "\n",
    "If you want the CPU version, use\n",
    "```\n",
    "sudo apt-get install caffe-cpu\n",
    "```\n",
    "For Ubuntu 16.10 and lower, you have to go through the lengthy process of compiling caffe from source. You can find the instructions [here](http://caffe.berkeleyvision.org/installation.html) and [here](https://github.com/BVLC/caffe/wiki/Ubuntu-16.04-or-15.10-Installation-Guide).\n",
    "\n",
    "**Let's use the second option for caffe-cuda installation in colab.**\n",
    "\n"
   ]
  },
  {
   "cell_type": "code",
   "execution_count": 0,
   "metadata": {
    "colab": {},
    "colab_type": "code",
    "id": "f5B1FemXzkzS"
   },
   "outputs": [],
   "source": [
    "%%bash\n",
    "sudo apt-get install caffe-cuda"
   ]
  },
  {
   "cell_type": "markdown",
   "metadata": {
    "colab_type": "text",
    "id": "Pj2RNZ3xX0VI"
   },
   "source": [
    "Output sample:\n",
    "\n",
    "![alt text](https://www.dropbox.com/s/hs68yob146em8l9/caffe_install.PNG?dl=1)"
   ]
  },
  {
   "cell_type": "markdown",
   "metadata": {
    "colab_type": "text",
    "id": "8EyN9SEHDk-j"
   },
   "source": [
    "# <font color='blue'>3. Caffe Training Process</font>\n",
    "\n",
    "For training a Neural Network in Caffe you require 3 files : \n",
    "1. Architecture Definition file : The model architecture is described in a prototxt file. It describes the layers ( Convolution, Pooling etc ) and their parameters ( num of filters, pool size ). It is generally named `train_val.prototxt`.\n",
    "2. Training Configuration file : In this file, we need to specify the training configuration - such how many iterations will we train, initial learning rate, how will the learning rate change and when, when to evaluate while training, when to save the model etc. It is generally named `solver.prototxt`.\n",
    "3. Model Weights File ( Optional ): It is required when you want to initialize your network with some known model weights rather than starting from scratch. It has a file extension `.caffemodel`."
   ]
  },
  {
   "cell_type": "markdown",
   "metadata": {
    "colab_type": "text",
    "id": "AT5r0N93TvB1"
   },
   "source": [
    "# <font color='blue'>4. Training a CNN in Caffe</font>\n",
    "\n",
    "We will train a CNN using the VGG-16 architecture and its pre-trained weights to initialize the network. This approach almost always gives better results than training from scratch and also takes less time to converge. In Deep Learning jargon, this approach is called fine-tuning of the network. \n",
    "\n",
    "Assuming that you have read the previous chapter on Colab, we will not explain the usage of Colab. All instructions given here should be run on the Colab Notebook."
   ]
  },
  {
   "cell_type": "markdown",
   "metadata": {
    "colab_type": "text",
    "id": "nkIY0YxTUMmf"
   },
   "source": [
    "## <font color='blue'>4.1. The Problem</font>\n",
    "Let us define the problem we are going to solve. It is a simple clasification problem for detecting the orientation of the face. There will be 4 classes corresponding to the 4 roataions of the upright image. \n",
    "1. Class 0 - Straight face\n",
    "2. Class 1 - Clockwise 90 Rotation\n",
    "3. Class 2 - Counter-Clockwise 90 Rotation\n",
    "4. Class 3 - 180 Rotation\n",
    "\n",
    "\n",
    "![](https://i.imgur.com/Fx3hKo9.png)\n",
    "\n",
    "We will use the Helen Dataset which has 2000 images for training and 330 images for validation. We will use 500 images per class for training and similarly divide the validation set into 82 images per class with the last class of 84 images."
   ]
  },
  {
   "cell_type": "markdown",
   "metadata": {
    "colab_type": "text",
    "id": "HduzYHTVZ6fo"
   },
   "source": [
    "## <font color='blue'>4.2. Step 1 : Download the model</font>\n",
    "We have provided the `train_val.prototxt` and `solver.prototxt` file along with other code required in a github repository which you can clone.\n",
    "\n",
    "We will also download the pre-trained VGG-16 Caffe model. Later in this module, we will fine-tune with our dataset. If you are working from a local system you can download the model weights file from [this link](http://www.robots.ox.ac.uk/~vgg/software/very_deep/caffe/VGG_ILSVRC_16_layers.caffemodel). However, we will use wget to download the data in colab environment.  \n",
    "\n",
    "**Let's proceed.**"
   ]
  },
  {
   "cell_type": "code",
   "execution_count": 5,
   "metadata": {
    "colab": {
     "base_uri": "https://localhost:8080/",
     "height": 302
    },
    "colab_type": "code",
    "id": "wTF23-6CTXfr",
    "outputId": "e043f860-71ee-4360-db2d-b13e9aa26fa0"
   },
   "outputs": [
    {
     "name": "stdout",
     "output_type": "stream",
     "text": [
      "--2020-01-10 17:37:17--  https://www.dropbox.com/s/9ozu5tpwswkjugc/training_cnn_in_caffe.zip?dl=1\n",
      "Resolving www.dropbox.com... 162.125.82.1, 2620:100:6032:1::a27d:5201\n",
      "Connecting to www.dropbox.com|162.125.82.1|:443... connected.\n",
      "HTTP request sent, awaiting response... 301 Moved Permanently\n",
      "Location: /s/dl/9ozu5tpwswkjugc/training_cnn_in_caffe.zip [following]\n",
      "--2020-01-10 17:37:19--  https://www.dropbox.com/s/dl/9ozu5tpwswkjugc/training_cnn_in_caffe.zip\n",
      "Reusing existing connection to www.dropbox.com:443.\n",
      "HTTP request sent, awaiting response... 302 Found\n",
      "Location: https://uc314b59c5b086223e4154777f38.dl.dropboxusercontent.com/cd/0/get/Av5ClhMV2YktzpUrBcFsPqSch2BDprM6Z93tzHaYu66rTF765bJKlD0sL9ZWQf4xG771JN09LK4tYSUGRJ8WYgBJQfjp9hjVBvy9r2hbb3R1ZZnPnwDhvDC1Sk3cF_MwVb4/file?dl=1# [following]\n",
      "--2020-01-10 17:37:19--  https://uc314b59c5b086223e4154777f38.dl.dropboxusercontent.com/cd/0/get/Av5ClhMV2YktzpUrBcFsPqSch2BDprM6Z93tzHaYu66rTF765bJKlD0sL9ZWQf4xG771JN09LK4tYSUGRJ8WYgBJQfjp9hjVBvy9r2hbb3R1ZZnPnwDhvDC1Sk3cF_MwVb4/file?dl=1\n",
      "Resolving uc314b59c5b086223e4154777f38.dl.dropboxusercontent.com... 162.125.82.6, 2620:100:6031:6::a27d:5106\n",
      "Connecting to uc314b59c5b086223e4154777f38.dl.dropboxusercontent.com|162.125.82.6|:443... connected.\n",
      "HTTP request sent, awaiting response... 200 OK\n",
      "Length: 330353 (323K) [application/binary]\n",
      "Saving to: ‘training_cnn_in_caffe.zip’\n",
      "\n",
      "training_cnn_in_caf 100%[===================>] 322.61K   236KB/s    in 1.4s    \n",
      "\n",
      "2020-01-10 17:37:22 (236 KB/s) - ‘training_cnn_in_caffe.zip’ saved [330353/330353]\n",
      "\n",
      "Archive:  training_cnn_in_caffe.zip\n",
      "   creating: training_cnn_in_caffe/\n",
      "  inflating: training_cnn_in_caffe/caffe_inference.py  \n",
      "  inflating: training_cnn_in_caffe/create_dataset.py  \n",
      "  inflating: training_cnn_in_caffe/create_lmdb.sh  \n",
      "  inflating: training_cnn_in_caffe/create_txt_files.py  \n",
      "  inflating: training_cnn_in_caffe/deploy.prototxt  \n",
      "  inflating: training_cnn_in_caffe/opencv_inference.py  \n",
      "  inflating: training_cnn_in_caffe/solver.prototxt  \n",
      "  inflating: training_cnn_in_caffe/solver_lmdb.prototxt  \n",
      "  inflating: training_cnn_in_caffe/solver_txtfiles.prototxt  \n",
      "   creating: training_cnn_in_caffe/test_images/\n",
      "  inflating: training_cnn_in_caffe/test_images/down.jpg  \n",
      "  inflating: training_cnn_in_caffe/test_images/left.jpg  \n",
      "  inflating: training_cnn_in_caffe/test_images/right.png  \n",
      "  inflating: training_cnn_in_caffe/test_images/straight.jpg  \n",
      "  inflating: training_cnn_in_caffe/train_val.prototxt  \n",
      "  inflating: training_cnn_in_caffe/train_val_using_lmdb.prototxt  \n",
      "  inflating: training_cnn_in_caffe/train_val_using_txtfiles.prototxt  \n",
      "--2020-01-10 17:37:22--  http://www.robots.ox.ac.uk/~vgg/software/very_deep/caffe/VGG_ILSVRC_16_layers.caffemodel\n",
      "Resolving www.robots.ox.ac.uk... 129.67.94.2, 129.67.94.2\n",
      "Connecting to www.robots.ox.ac.uk|129.67.94.2|:80... connected.\n",
      "HTTP request sent, awaiting response... 200 OK\n",
      "Length: 553432081 (528M)\n",
      "Saving to: ‘VGG_ILSVRC_16_layers.caffemodel’\n",
      "\n",
      "VGG_ILSVRC_16_layer 100%[===================>] 527.79M  5.66MB/s    in 2m 28s  \n",
      "\n",
      "2020-01-10 17:39:51 (3.56 MB/s) - ‘VGG_ILSVRC_16_layers.caffemodel’ saved [553432081/553432081]\n",
      "\n"
     ]
    }
   ],
   "source": [
    "import os\n",
    "!wget \"https://www.dropbox.com/s/9ozu5tpwswkjugc/training_cnn_in_caffe.zip?dl=1\" -O training_cnn_in_caffe.zip\n",
    "!unzip training_cnn_in_caffe.zip\n",
    "os.chdir(\"training_cnn_in_caffe\")\n",
    "!wget http://www.robots.ox.ac.uk/~vgg/software/very_deep/caffe/VGG_ILSVRC_16_layers.caffemodel"
   ]
  },
  {
   "cell_type": "markdown",
   "metadata": {
    "colab_type": "text",
    "id": "LvoBVn2manev"
   },
   "source": [
    "**Check that the repo contains the weights file and the train_val and solver files.**"
   ]
  },
  {
   "cell_type": "code",
   "execution_count": 6,
   "metadata": {
    "colab": {
     "base_uri": "https://localhost:8080/",
     "height": 151
    },
    "colab_type": "code",
    "id": "pX-BTTvVab9t",
    "outputId": "d4ecdf5d-dbd7-4c79-ec00-da5ead0e4f2c"
   },
   "outputs": [
    {
     "name": "stdout",
     "output_type": "stream",
     "text": [
      "VGG_ILSVRC_16_layers.caffemodel   solver.prototxt\r\n",
      "caffe_inference.py                solver_lmdb.prototxt\r\n",
      "create_dataset.py                 solver_txtfiles.prototxt\r\n",
      "create_lmdb.sh                    \u001b[34mtest_images\u001b[m\u001b[m\r\n",
      "create_txt_files.py               train_val.prototxt\r\n",
      "deploy.prototxt                   train_val_using_lmdb.prototxt\r\n",
      "opencv_inference.py               train_val_using_txtfiles.prototxt\r\n"
     ]
    }
   ],
   "source": [
    "!ls"
   ]
  },
  {
   "cell_type": "markdown",
   "metadata": {
    "colab_type": "text",
    "id": "LP7Nwa2_bGr9"
   },
   "source": [
    "## <font color='blue'>4.3. Step 2 : Download the Data</font>\n",
    "If you are working from a local system you can download the Helen Dataset from [this link](http://www.ifp.illinois.edu/~vuongle2/helen/). However, we will use `wget` to download the data in colab environment. There would be 5 folders. We will use 4 folders named `helen_1` to `helen_4` for training and `helen_5` for validation.\n"
   ]
  },
  {
   "cell_type": "code",
   "execution_count": 7,
   "metadata": {
    "colab": {},
    "colab_type": "code",
    "id": "L6X-RSuJavGH"
   },
   "outputs": [
    {
     "name": "stdout",
     "output_type": "stream",
     "text": [
      "--2020-01-10 17:39:57--  http://www.ifp.illinois.edu/~vuongle2/helen/data/helen_1.zip\n",
      "Resolving www.ifp.illinois.edu... 130.126.122.239\n",
      "Connecting to www.ifp.illinois.edu|130.126.122.239|:80... connected.\n",
      "HTTP request sent, awaiting response... 200 OK\n",
      "Length: 96876123 (92M) [application/zip]\n",
      "Saving to: ‘helen_1.zip’\n",
      "\n",
      "helen_1.zip         100%[===================>]  92.39M  3.37MB/s    in 32s     \n",
      "\n",
      "2020-01-10 17:40:29 (2.91 MB/s) - ‘helen_1.zip’ saved [96876123/96876123]\n",
      "\n",
      "--2020-01-10 17:40:29--  http://www.ifp.illinois.edu/~vuongle2/helen/data/helen_2.zip\n",
      "Resolving www.ifp.illinois.edu... 130.126.122.239\n",
      "Connecting to www.ifp.illinois.edu|130.126.122.239|:80... connected.\n",
      "HTTP request sent, awaiting response... 200 OK\n",
      "Length: 106113055 (101M) [application/zip]\n",
      "Saving to: ‘helen_2.zip’\n",
      "\n",
      "helen_2.zip         100%[===================>] 101.20M  3.51MB/s    in 33s     \n",
      "\n",
      "2020-01-10 17:41:03 (3.07 MB/s) - ‘helen_2.zip’ saved [106113055/106113055]\n",
      "\n",
      "--2020-01-10 17:41:03--  http://www.ifp.illinois.edu/~vuongle2/helen/data/helen_3.zip\n",
      "Resolving www.ifp.illinois.edu... 130.126.122.239\n",
      "Connecting to www.ifp.illinois.edu|130.126.122.239|:80... connected.\n",
      "HTTP request sent, awaiting response... 200 OK\n",
      "Length: 129614090 (124M) [application/zip]\n",
      "Saving to: ‘helen_3.zip’\n",
      "\n",
      "helen_3.zip         100%[===================>] 123.61M  3.07MB/s    in 48s     \n",
      "\n",
      "2020-01-10 17:41:52 (2.56 MB/s) - ‘helen_3.zip’ saved [129614090/129614090]\n",
      "\n",
      "--2020-01-10 17:41:52--  http://www.ifp.illinois.edu/~vuongle2/helen/data/helen_4.zip\n",
      "Resolving www.ifp.illinois.edu... 130.126.122.239\n",
      "Connecting to www.ifp.illinois.edu|130.126.122.239|:80... connected.\n",
      "HTTP request sent, awaiting response... 200 OK\n",
      "Length: 123830751 (118M) [application/zip]\n",
      "Saving to: ‘helen_4.zip’\n",
      "\n",
      "helen_4.zip         100%[===================>] 118.09M  3.49MB/s    in 38s     \n",
      "\n",
      "2020-01-10 17:42:31 (3.09 MB/s) - ‘helen_4.zip’ saved [123830751/123830751]\n",
      "\n",
      "--2020-01-10 17:42:31--  http://www.ifp.illinois.edu/~vuongle2/helen/data/helen_5.zip\n",
      "Resolving www.ifp.illinois.edu... 130.126.122.239\n",
      "Connecting to www.ifp.illinois.edu|130.126.122.239|:80... connected.\n",
      "HTTP request sent, awaiting response... 200 OK\n",
      "Length: 91751687 (88M) [application/zip]\n",
      "Saving to: ‘helen_5.zip’\n",
      "\n",
      "helen_5.zip         100%[===================>]  87.50M  2.81MB/s    in 36s     \n",
      "\n",
      "2020-01-10 17:43:09 (2.43 MB/s) - ‘helen_5.zip’ saved [91751687/91751687]\n",
      "\n"
     ]
    }
   ],
   "source": [
    "!mkdir data\n",
    "os.chdir(\"data\")\n",
    "!wget http://www.ifp.illinois.edu/~vuongle2/helen/data/helen_1.zip\n",
    "!wget http://www.ifp.illinois.edu/~vuongle2/helen/data/helen_2.zip\n",
    "!wget http://www.ifp.illinois.edu/~vuongle2/helen/data/helen_3.zip\n",
    "!wget http://www.ifp.illinois.edu/~vuongle2/helen/data/helen_4.zip\n",
    "!wget http://www.ifp.illinois.edu/~vuongle2/helen/data/helen_5.zip"
   ]
  },
  {
   "cell_type": "markdown",
   "metadata": {
    "colab_type": "text",
    "id": "9XndvAkyXLWA"
   },
   "source": [
    "Output sample:\n",
    "\n",
    "![alt text](https://www.dropbox.com/s/hxwng7bdu2pcccm/data_download.PNG?dl=1)"
   ]
  },
  {
   "cell_type": "markdown",
   "metadata": {
    "colab_type": "text",
    "id": "F3ZTxptxfiIH"
   },
   "source": [
    "**Now unzip the files**"
   ]
  },
  {
   "cell_type": "code",
   "execution_count": 0,
   "metadata": {
    "colab": {},
    "colab_type": "code",
    "id": "AZqOKfIufQbV"
   },
   "outputs": [],
   "source": [
    "%%bash\n",
    "unzip helen_1.zip\n",
    "unzip helen_2.zip\n",
    "unzip helen_3.zip\n",
    "unzip helen_4.zip\n",
    "unzip helen_5.zip"
   ]
  },
  {
   "cell_type": "markdown",
   "metadata": {
    "colab_type": "text",
    "id": "hqzb_5H1WgbR"
   },
   "source": [
    "Output sample:\n",
    "\n",
    "![alt text](https://www.dropbox.com/s/j4o3ting5aoju0v/unzip.PNG?dl=1)"
   ]
  },
  {
   "cell_type": "markdown",
   "metadata": {
    "colab_type": "text",
    "id": "n1DRegXmgAYL"
   },
   "source": [
    "**Delete the zip files**"
   ]
  },
  {
   "cell_type": "code",
   "execution_count": 0,
   "metadata": {
    "colab": {},
    "colab_type": "code",
    "id": "8kFCj4VWf4HI"
   },
   "outputs": [],
   "source": [
    "%%bash\n",
    "rm helen_1.zip\n",
    "rm helen_2.zip\n",
    "rm helen_3.zip\n",
    "rm helen_4.zip\n",
    "rm helen_5.zip"
   ]
  },
  {
   "cell_type": "markdown",
   "metadata": {
    "colab_type": "text",
    "id": "6K_IYY7YgU3A"
   },
   "source": [
    "**Put the `helen_5` folder in a folder named `val` and the rest in folder `train`**"
   ]
  },
  {
   "cell_type": "code",
   "execution_count": 0,
   "metadata": {
    "colab": {},
    "colab_type": "code",
    "id": "-Zvm874dgO--"
   },
   "outputs": [],
   "source": [
    "%%bash\n",
    "mkdir train\n",
    "mkdir val\n",
    "mv helen_5 val\n",
    "mv helen_* train"
   ]
  },
  {
   "cell_type": "markdown",
   "metadata": {
    "colab_type": "text",
    "id": "Af4rY5zAg3-r"
   },
   "source": [
    "**Go back to the root directory of the repo where the rest of the code is residing**"
   ]
  },
  {
   "cell_type": "code",
   "execution_count": 0,
   "metadata": {
    "colab": {},
    "colab_type": "code",
    "id": "3pIiKbgUgxAt"
   },
   "outputs": [],
   "source": [
    "os.chdir(\"..\")"
   ]
  },
  {
   "cell_type": "markdown",
   "metadata": {
    "colab_type": "text",
    "id": "ra5AXILWhR3c"
   },
   "source": [
    "## <font color='blue'>4.4. Step 3 : Prepare the data</font>\n",
    "We will first convert the `helen_5` folder into 4 subfolders by dividing the total number of images in 4 folders similar to the `train` set."
   ]
  },
  {
   "cell_type": "code",
   "execution_count": 0,
   "metadata": {
    "colab": {},
    "colab_type": "code",
    "id": "cOFVCurAg_Et"
   },
   "outputs": [],
   "source": [
    "import os, glob\n",
    "# Create subfolders using the helen_5 folder\n",
    "# Divide the total number of images into 4 parts \n",
    "# and move them into coressponding folder\n",
    "valFiles = glob.glob(\"data/val/helen_5/*\")\n",
    "\n",
    "for i in range(4):\n",
    "    os.makedirs(\"data/val/helen_{}\".format(i+1))\n",
    "    for j in range( int(i*len(valFiles)/4) , \n",
    "                    int((i+1)*len(valFiles)/4) ):\n",
    "                    os.rename(valFiles[j], \n",
    "                    \"data/val/helen_{}/{}.jpg\".format(i+1, j))\n",
    "\n",
    "os.removedirs(\"data/val/helen_5/\")"
   ]
  },
  {
   "cell_type": "markdown",
   "metadata": {
    "colab_type": "text",
    "id": "TkFB5bwkjVD6"
   },
   "source": [
    "We will next create a new dataset from the downloaded data by rotating images as mentioned above and then prepare the dataset so that we can feed it to the network for training.\n",
    "\n",
    "We will discuss 2 ways of supplying the data for training. They are : \n",
    "1. Using a txt file with `ImageData` Layer\n",
    "2. Using LMDB database with `Data` Layer.\n",
    "\n",
    "You can use any one of them in your experiment. But do try both of them to get an understanding."
   ]
  },
  {
   "cell_type": "markdown",
   "metadata": {
    "colab_type": "text",
    "id": "eVcNIYRmjrNK"
   },
   "source": [
    "### <font color='blue'>Step 3a : Create Dataset</font>\n",
    "As discussed above, we will use `3` rotations `(90, -90, 180)` for the other `3` classes apart from the straight face. We will use OpenCV library for rotating the images and save them in the respective directories."
   ]
  },
  {
   "cell_type": "code",
   "execution_count": 10,
   "metadata": {
    "colab": {
     "base_uri": "https://localhost:8080/",
     "height": 84
    },
    "colab_type": "code",
    "id": "yDw_8o9ajSe-",
    "outputId": "847c0b97-d4cb-426c-844d-5304068834ff"
   },
   "outputs": [
    {
     "name": "stdout",
     "output_type": "stream",
     "text": [
      "processing helen_2\n",
      "processing helen_3\n",
      "processing helen_4\n",
      "New DataSet created\n"
     ]
    }
   ],
   "source": [
    "import glob\n",
    "import cv2\n",
    "\n",
    "folders = [\"helen_2\", \"helen_3\", \"helen_4\"]\n",
    "rotation = [cv2.ROTATE_90_CLOCKWISE,\n",
    "            cv2.ROTATE_90_COUNTERCLOCKWISE, \n",
    "            cv2.ROTATE_180]\n",
    "\n",
    "for index, folder in enumerate(folders):\n",
    "    print(\"processing {}\".format(folder))\n",
    "    trainFiles = glob.glob(\"data/train/{}/*\".format(folder))\n",
    "    valFiles = glob.glob(\"data/val/{}/*\".format(folder))\n",
    "    for fi in trainFiles:\n",
    "        im = cv2.imread(fi)\n",
    "        im = cv2.rotate(im, rotation[index])\n",
    "        cv2.imwrite(fi,im)\n",
    "    for fi in valFiles:\n",
    "        im = cv2.imread(fi)\n",
    "        im = cv2.rotate(im, rotation[index])\n",
    "        cv2.imwrite(fi,im)\n",
    "\n",
    "print(\"New DataSet created\")"
   ]
  },
  {
   "cell_type": "markdown",
   "metadata": {
    "colab_type": "text",
    "id": "0Q7UmZ3NkU2_"
   },
   "source": [
    "### <font color='blue'>Step 3b : Create `.txt` files</font>"
   ]
  },
  {
   "cell_type": "code",
   "execution_count": 11,
   "metadata": {
    "colab": {
     "base_uri": "https://localhost:8080/",
     "height": 50
    },
    "colab_type": "code",
    "id": "Kx6N-FENkDVu",
    "outputId": "e1f698a5-b84c-4bc6-a37e-3a4abef09e29"
   },
   "outputs": [
    {
     "name": "stdout",
     "output_type": "stream",
     "text": [
      "Text files created\n",
      "class2label.txt  CMakeLists.txt  train_files.txt  val_files.txt\n"
     ]
    }
   ],
   "source": [
    "# Path to train and val folders\n",
    "TRAIN_DATA_DIR = \"data/train\"\n",
    "VAL_DATA_DIR = \"data/val\"\n",
    "\n",
    "# Get the folders inside the train and val folders\n",
    "trainFolders = glob.glob(\"{}/*\".format(TRAIN_DATA_DIR))\n",
    "valFolders = glob.glob(\"{}/*\".format(VAL_DATA_DIR))\n",
    "\n",
    "trainFolders.sort()\n",
    "valFolders.sort()\n",
    "\n",
    "# Open the train and val files for writing\n",
    "train_file = open(\"train_files.txt\",\"w\")\n",
    "val_file = open(\"val_files.txt\",\"w\")\n",
    "\n",
    "# Find the images\n",
    "# write the image path along with the class in the txt file\n",
    "for i in range(len(trainFolders)):\n",
    "    files = glob.glob(\"{}/*\".format(trainFolders[i]))\n",
    "    for fi in files:\n",
    "        train_file.writelines('{} {}\\n'.format(fi, i))\n",
    "train_file.close()\n",
    "\n",
    "for i in range(len(valFolders)):\n",
    "    files = glob.glob(\"{}/*\".format(valFolders[i]))\n",
    "    for fi in files:\n",
    "        val_file.writelines('{} {}\\n'.format(fi, i))\n",
    "val_file.close()\n",
    "\n",
    "# Create a file to save the mapping between \n",
    "# class number and actual label\n",
    "class2label = [\"Straight\", \"Right\", \"Left\", \"Upside-Down\"]\n",
    "class_mapping_file = open(\"class2label.txt\",\"w\")\n",
    "for cl, label in enumerate(class2label):\n",
    "    class_mapping_file.writelines(\"{} {}\\n\".format(cl, label))\n",
    "class_mapping_file.close()\n",
    "\n",
    "print(\"Text files created\")\n",
    "\n",
    "!ls *.txt"
   ]
  },
  {
   "cell_type": "markdown",
   "metadata": {
    "colab_type": "text",
    "id": "WOLTgLdKlYMc"
   },
   "source": [
    "### <font color='blue'>Step 3c : Create LMDB database ( optional )</font>\n",
    "You can use the same txt files to create a LMDB database. If you have large disk space, it is a good practise to create LMDB database. It speeds up the training process by a order of magnitude, specially if the images are download from internet and you dont know their size. It is a one time process which will acclearate your training.\n",
    "\n",
    "To convert a data folder to a LMDB database, you can use the Caffe command convert_imageset. It takes arguments : \n",
    "1. resize height and resize width.\n",
    "2. shuffle or not.\n",
    "3. root directory of the train or val folder.\n",
    "4. txt file containing the location of images.\n",
    "5. name of the lmdb to be created."
   ]
  },
  {
   "cell_type": "code",
   "execution_count": 12,
   "metadata": {
    "colab": {
     "base_uri": "https://localhost:8080/",
     "height": 168
    },
    "colab_type": "code",
    "id": "MOxp9fEyk6qz",
    "outputId": "7d83e6f3-5e50-4fa8-cd9d-be4630927c6d"
   },
   "outputs": [
    {
     "name": "stderr",
     "output_type": "stream",
     "text": [
      "I1222 23:51:23.171636  1554 convert_imageset.cpp:86] Shuffling data\n",
      "I1222 23:51:24.262444  1554 convert_imageset.cpp:89] A total of 2000 images.\n",
      "I1222 23:51:24.263974  1554 db_lmdb.cpp:35] Opened lmdb train_lmdb\n",
      "I1222 23:51:44.074291  1554 convert_imageset.cpp:147] Processed 1000 files.\n",
      "I1222 23:52:03.072227  1554 convert_imageset.cpp:147] Processed 2000 files.\n",
      "I1222 23:52:03.260637  1564 convert_imageset.cpp:86] Shuffling data\n",
      "I1222 23:52:03.587828  1564 convert_imageset.cpp:89] A total of 330 images.\n",
      "I1222 23:52:03.589105  1564 db_lmdb.cpp:35] Opened lmdb val_lmdb\n",
      "I1222 23:52:13.282817  1564 convert_imageset.cpp:153] Processed 330 files.\n"
     ]
    }
   ],
   "source": [
    "%%bash\n",
    "convert_imageset --resize_height=256 --resize_width=256 --shuffle ./ train_files.txt train_lmdb\n",
    "convert_imageset --resize_height=256 --resize_width=256 --shuffle ./ val_files.txt val_lmdb"
   ]
  },
  {
   "cell_type": "markdown",
   "metadata": {
    "colab_type": "text",
    "id": "QcbeiafRlx1e"
   },
   "source": [
    "**You should compare the training times when you use simple `txt` file and when you use `LMDB database`. You will be amazed!**"
   ]
  },
  {
   "cell_type": "markdown",
   "metadata": {
    "colab_type": "text",
    "id": "_QnySwrJmZhF"
   },
   "source": [
    "## <font color='blue'>4.5. Step 4 : Modify `prototxt` files</font>\n",
    "We have already made the required changes in the two files `train_val` and `solver` prototxt files. The following is the gist of what changes were made for your reference.\n",
    "### `train_val.prototxt` file\n",
    "1. Change the `Name` of the last layer i.e. `fc8` to `fc8_face` or any other name. This will ensure that the weights of the last layer are not loaded.\n",
    "```\n",
    "layer {\n",
    "  name: \"fc8\" --> \"fc8_face\"  # change fc8 to fc8_face\n",
    "  bottom: \"fc7\"\n",
    "  top: \"fc8\" --> \"fc8_face\"\n",
    "  type: \"InnerProduct\"\n",
    "  inner_product_param {\n",
    "    num_output: 1000\n",
    "  }\n",
    "  param {\n",
    "    lr_mult: 1\n",
    "  }\n",
    "  param {\n",
    "    lr_mult: 1\n",
    "  }\n",
    "}\n",
    "layer {\n",
    "  name: \"loss\"\n",
    "  type: \"SoftmaxWithLoss\"\n",
    "  bottom: \"fc8\" --> \"fc8_face\"  # change fc8 to fc8_face\n",
    "  bottom: \"label\"\n",
    "  top: \"loss/loss\"\n",
    "}\n",
    "layer {\n",
    "  name: \"accuracy\"\n",
    "  type: \"Accuracy\"\n",
    "  bottom: \"fc8\" --> \"fc8_face\"  # change fc8 to fc8_face\n",
    "  bottom: \"label\"\n",
    "  top: \"accuracy\"\n",
    "  include: { phase: TEST }\n",
    "}\n",
    "```\n",
    "2. Change the num_output of last layer to the `#classes` ( `4` in our case ).\n",
    "```\n",
    "layer {\n",
    "  name: \"fc8_face\"\n",
    "  bottom: \"fc7\"\n",
    "  top: fc8_face\"\n",
    "  type: \"InnerProduct\"\n",
    "  inner_product_param {\n",
    "    num_output: 1000 --> 4     # change 1000 to 4\n",
    "  }\n",
    "  param {\n",
    "    lr_mult: 1\n",
    "  }\n",
    "  param {\n",
    "    lr_mult: 1\n",
    "  }\n",
    "}\n",
    "```\n",
    "\n",
    "3. Specify which layers are to be trained. This is done using `lr_mult` parameter. It is set to `0` if you don't want to train the network. Hence, we are interested in fine-tuning; we will update a few last layer weight.\n",
    "```\n",
    "layer {\n",
    "  bottom: \"data\"\n",
    "  top: \"conv1_1\"\n",
    "  name: \"conv1_1\"\n",
    "  type: \"Convolution\"\n",
    "  convolution_param {\n",
    "    num_output: 64\n",
    "    pad: 1\n",
    "    kernel_size: 3\n",
    "  }\n",
    "  param {\n",
    "    lr_mult: 0     # This is 0 because we don't want to update conv1_1 weight\n",
    "  }\n",
    "  param {\n",
    "    lr_mult: 0     # This is 0 because we don't want to update conv1_1 weight\n",
    "  }\n",
    "}\n",
    ".\n",
    ".\n",
    ".\n",
    "layer {\n",
    "  name: \"fc8_face\"\n",
    "  bottom: \"fc7\"\n",
    "  top: \"fc8_face\"\n",
    "  type: \"InnerProduct\"\n",
    "  inner_product_param {\n",
    "    num_output: 4\n",
    "  }\n",
    "  param {\n",
    "    lr_mult: 1    # This is 1 because we want to update weight of fully connected layer\n",
    "  }\n",
    "  param {\n",
    "    lr_mult: 1    # This is 1 because we want to update weight of fully connected layer\n",
    "  }\n",
    "}\n",
    "```\n",
    "\n",
    "4. Specify whather you are using `ImageData` layer ( for `txt` file ) or `Data` layer (for `LMDB database`).\n",
    "```\n",
    "layer {\n",
    "  name: \"data\"\n",
    "  type: \"Data\"   #ImageData layer (for txt file) or Data layer (for LMDB database)\n",
    "  top: \"data\"\n",
    "  top: \"label\"\n",
    "  include {\n",
    "    phase: TRAIN\n",
    "  }\n",
    "```\n",
    "OR\n",
    "```\n",
    "layer {\n",
    "  name: \"data\"\n",
    "  type: \"ImageData\"   #ImageData layer (for txt file) or Data layer (for LMDB database)\n",
    "  top: \"data\"\n",
    "  top: \"label\"\n",
    "  include {\n",
    "    phase: TRAIN\n",
    "  }\n",
    "```\n",
    "\n",
    "We will see this in detail in the next section.\n",
    "\n",
    "4. Specify the parameters of layers as `crop_size`, `batch_size`, `mirror` etc.\n",
    "```\n",
    "layer {\n",
    "  name: \"data\"\n",
    "  type: \"ImageData\"\n",
    "  top: \"data\"\n",
    "  top: \"label\"\n",
    "  include {\n",
    "    phase: TRAIN\n",
    "  }\n",
    "  transform_param {    # Image transform parameters\n",
    "    crop_size: 224\n",
    "    mean_value: 104\n",
    "    mean_value: 117\n",
    "    mean_value: 123\n",
    "    mirror: false\n",
    "  }                  \n",
    "  image_data_param {\n",
    "    source: \"train_files.txt\"\n",
    "    batch_size: 50     # Specify the batch size\n",
    "    new_height: 256\n",
    "    new_width: 256\n",
    "    shuffle: true\n",
    "  }\n",
    "}\n",
    "```\n",
    "\n",
    "\n",
    "**We have created two `train_val` files for ease of use.** \n",
    "1. `train_val_using_lmdb.prototxt` - uses LMDB data for training\n",
    "2. `train_val_using_txtfiles.prototxt` - takes data from txt files for training\n",
    "\n",
    "### `solver.prototxt` file\n",
    "In this file, we specify the following parameters.\n",
    "1. `net` : It is the path to the configuration `train_val.prototxt` file\n",
    "2. `test_iter` : number of iterations to be performed while validation. We have kept the batch_size for validation data in train_val.prototxt as 30. We have 330 images. Thus, 11 iterations are needed to complete 330 images.\n",
    "3. `test_interval` : After how many iterations do we check the validation accuracy\n",
    "4. `base_lr` : Initial Learning rate \n",
    "5. `lr_policy` : How will the learning rate change as training progresses. This is required since we cannot use the same learning rate for the whole training process. We should decrease the LR as we reach near the minima.\n",
    "6. `stepsize` : This is the number of iterations after which the LR will be changed.\n",
    "7. `gamma` : this value is multiplied to the current LR when we reach the `stepsize` number of iterations\n",
    "8. `display` : This is the number of iterations after which the status will be displayed on the console.\n",
    "9. `max_iter` : Maximum number of iterations for training. Training will stop after reaching this number of iterations.\n",
    "10. `momentum` : This is a parameter for the optimizer. Genrally kept at 0.9\n",
    "11. `weight_decay` : this is the regularization parameter wo prevent overfitting\n",
    "12. `snapshot` : this is the number of iterations after which the network weights will be saved. This is useful since we can start from this saved point in case something fails or overfitting starts or something bad happens ( Colab crashes! )\n",
    "13. `snapshot_prefix` : the name of the saved weights file\n",
    "14. `solver_mode` : GPU or CPU backend\n",
    "\n",
    "```\n",
    "net: \"train_val.prototxt\"\n",
    "test_iter: 11\n",
    "test_interval: 20\n",
    "base_lr: 0.0001\n",
    "lr_policy: \"step\"\n",
    "stepsize: 40\n",
    "gamma: 0.1\n",
    "display: 10\n",
    "max_iter: 200\n",
    "momentum: 0.9\n",
    "weight_decay: 0.0005\n",
    "snapshot: 100\n",
    "snapshot_prefix: \"vggnet_train\"\n",
    "solver_mode: GPU\n",
    "```\n",
    "\n",
    "**We have created two solver files for ease of use.** \n",
    "1. `solver_lmdb.prototxt` - for LMDB\n",
    "1. `solver_txtfiles.prototxt` - for txt files"
   ]
  },
  {
   "cell_type": "markdown",
   "metadata": {
    "colab_type": "text",
    "id": "bZJNtt3O82pw"
   },
   "source": [
    "### <font color='blue'>Step 4a : Using Data Layer (For LMDB Data)</font>\n",
    "For LMDB Data, the prototxt file should look like this\n",
    "```\n",
    "layer {\n",
    "  name: \"data\"\n",
    "  type: \"Data\"    # <---\n",
    "  top: \"data\"\n",
    "  top: \"label\"\n",
    "  include {\n",
    "    phase: TRAIN\n",
    "  }\n",
    "  transform_param {\n",
    "    crop_size: 227\n",
    "    mean_value: 104\n",
    "    mean_value: 117\n",
    "    mean_value: 123\n",
    "    mirror: false   # <---\n",
    "  }\n",
    "  data_param {\n",
    "    source: \"train_lmdb\"  # <---\n",
    "    batch_size: 50\n",
    "    backend: LMDB     # <---\n",
    "  }\n",
    "}\n",
    "```\n",
    "**We have created a separate `train_val_using_lmdb.prototxt` file for training using LMDB**\n",
    "\n",
    "We will use the same mean as ImageNet ( since the network was trained on ImageNet ). You can however, find the mean of the dataset using the tool `compute_image_mean` available in Caffe to compute the mean image of the database."
   ]
  },
  {
   "cell_type": "markdown",
   "metadata": {
    "colab_type": "text",
    "id": "fBmp-zFL-Zg3"
   },
   "source": [
    "### <font color='blue'>Step 4b : Using ImageData Layer (For txt file)</font>\n",
    "ImageData layer uses txt files, `train_files.txt` and `val_files.txt` with the image path names and the class separated by a space or tab.\n",
    "```\n",
    "layer {\n",
    "  name: \"data\"\n",
    "  type: \"ImageData\"   # <---\n",
    "  top: \"data\"\n",
    "  top: \"label\"\n",
    "  include {\n",
    "    phase: TRAIN\n",
    "  }\n",
    "  transform_param {\n",
    "    crop_size: 224\n",
    "    mean_value: 104\n",
    "    mean_value: 117\n",
    "    mean_value: 123\n",
    "    mirror: false   # <---\n",
    "  }\n",
    "  image_data_param {\n",
    "    source: \"train_files.txt\"  # <---\n",
    "    batch_size: 50\n",
    "    new_height: 256\n",
    "    new_width: 256\n",
    "    shuffle: true\n",
    "  }\n",
    "}\n",
    "```\n",
    "\n",
    "**We have created a separate `train_val_using_txtfiles.prototxt` file for training using image files.**"
   ]
  },
  {
   "cell_type": "markdown",
   "metadata": {
    "colab_type": "text",
    "id": "o6sxsWC6_ZEJ"
   },
   "source": [
    "## <font color='blue'>4.6. Step 5 : Train</font>\n",
    "We have everything in place to start training i.e. We have created a `txt` file and a `LMDB` database for the training/val data and modified the `train_val.prototxt` and `solver.prototxt` files.\n",
    "\n",
    "To start training, we need to execute the following command:"
   ]
  },
  {
   "cell_type": "markdown",
   "metadata": {
    "colab_type": "text",
    "id": "MqqDeu7-_5tE"
   },
   "source": [
    "##### For training using LMDB"
   ]
  },
  {
   "cell_type": "code",
   "execution_count": 0,
   "metadata": {
    "colab": {},
    "colab_type": "code",
    "id": "D1QkoIml_zTT"
   },
   "outputs": [],
   "source": [
    "!caffe train --solver solver_lmdb.prototxt --weights VGG_ILSVRC_16_layers.caffemodel "
   ]
  },
  {
   "cell_type": "markdown",
   "metadata": {
    "colab_type": "text",
    "id": "z7hd9m0WBJwD"
   },
   "source": [
    "##### For training using Image files"
   ]
  },
  {
   "cell_type": "code",
   "execution_count": 0,
   "metadata": {
    "colab": {},
    "colab_type": "code",
    "id": "wbRj5JINBNLh"
   },
   "outputs": [],
   "source": [
    "!caffe train --solver solver_txtfiles.prototxt --weights VGG_ILSVRC_16_layers.caffemodel"
   ]
  },
  {
   "cell_type": "markdown",
   "metadata": {
    "colab_type": "text",
    "id": "YJ--exJwVZhO"
   },
   "source": [
    "You should get an output similar to this and you can check the process.\n",
    "\n",
    "![alt text](https://www.dropbox.com/s/thyth7914eqnf9l/caffe_train_output.PNG?dl=1)"
   ]
  },
  {
   "cell_type": "markdown",
   "metadata": {
    "colab_type": "text",
    "id": "EHVFUiObBbP9"
   },
   "source": [
    "**Once the training is complete, you can use the trained `.caffemodel` file along with the `deploy.prototxt` file to deploy your learned model to perform inference. The `deploy.prototxt` file is similar to the train_val.protoxt except that the parameters that we set for learning are not present such as `lr_mult` etc. Also, we do not calculate loss and accuracy while performing inference, thus those two layers are also absent.**"
   ]
  },
  {
   "cell_type": "markdown",
   "metadata": {
    "colab_type": "text",
    "id": "Ky5y0p6oCsMy"
   },
   "source": [
    "## <font color='blue'>4.7. Step 6 : Perform Inference</font>\n",
    "The file has been given in the repo as `caffe_inference.py`\n",
    "Specify the file paths"
   ]
  },
  {
   "cell_type": "code",
   "execution_count": 28,
   "metadata": {
    "colab": {
     "base_uri": "https://localhost:8080/",
     "height": 302
    },
    "colab_type": "code",
    "id": "5QDcHPi_GRSH",
    "outputId": "e150c743-e1c3-484e-de00-30bad0911151"
   },
   "outputs": [
    {
     "name": "stdout",
     "output_type": "stream",
     "text": [
      "Predicted Class : Left , Confidence : 0.9998910427093506\n"
     ]
    },
    {
     "data": {
      "text/plain": [
       "<matplotlib.image.AxesImage at 0x7f8e0802d278>"
      ]
     },
     "execution_count": 28,
     "metadata": {
      "tags": []
     },
     "output_type": "execute_result"
    },
    {
     "data": {
      "image/png": "[encoded data removed]",
      "text/plain": [
       "<Figure size 432x288 with 1 Axes>"
      ]
     },
     "metadata": {
      "tags": []
     },
     "output_type": "display_data"
    }
   ],
   "source": [
    "import numpy as np\n",
    "import caffe\n",
    "import matplotlib.pyplot as plt\n",
    "import warnings\n",
    "warnings.filterwarnings('ignore')\n",
    "\n",
    "protoFile = \"deploy.prototxt\"\n",
    "weightsFile = \"face_orientation_iter_100.caffemodel\"\n",
    "imageFile = \"test_images/left.jpg\"\n",
    "class2label = []\n",
    "with open(\"class2label.txt\") as fi:\n",
    "    data = fi.readlines()\n",
    "\n",
    "for i in range(len(data)):\n",
    "    cl, label = data[i].strip().split()\n",
    "    class2label.append(label)\n",
    "\n",
    "input_height, input_width = 224, 224\n",
    "img_mean = np.array([104, 117, 123], dtype=np.float32)\n",
    "\n",
    "caffe.set_mode_gpu()\n",
    "net = caffe.Net(protoFile, weightsFile, caffe.TEST)\n",
    "\n",
    "im = caffe.io.load_image(imageFile)\n",
    "im = caffe.io.resize_image(im, [input_height, input_width])\n",
    "\n",
    "transformer = caffe.io.Transformer({'data': net.blobs['data'].data.shape})\n",
    "transformer.set_transpose('data', (2, 0, 1))  # row to col\n",
    "transformer.set_channel_swap('data', (2, 1, 0))  # RGB to BGR\n",
    "transformer.set_raw_scale('data', 255)  # [0,1] to [0,255]\n",
    "transformer.set_mean('data', img_mean)\n",
    "\n",
    "net.blobs['data'].reshape(1, 3, input_height, input_width)\n",
    "net.blobs['data'].data[...] = transformer.preprocess('data', im)\n",
    "out = net.forward()\n",
    "prob = out['prob'][0]\n",
    "pred_class = np.argmax(prob)\n",
    "\n",
    "print('Predicted Class : {} , Confidence : {}'.format(class2label[pred_class], prob[pred_class]))\n",
    "\n",
    "plt.imshow(im)"
   ]
  },
  {
   "cell_type": "markdown",
   "metadata": {
    "colab_type": "text",
    "id": "7Hm4sR7mJ21p"
   },
   "source": [
    "## <font color='blue'>4.8. Step 7 : Saving the Model to Google drive</font>\n",
    "\n",
    "Now that you have successfully trained the model, you would want to download the model before your time runs out on Colab. Also, we will se in the next section, how to load the model in OpenCV"
   ]
  },
  {
   "cell_type": "markdown",
   "metadata": {
    "colab_type": "text",
    "id": "G5QdRLcHLx9N"
   },
   "source": [
    "##### Mount Google Drive on Colab\n",
    "\n",
    "Next, You have to mount the drive on Colab so that you can use it as just like an external Hard drive.\n"
   ]
  },
  {
   "cell_type": "code",
   "execution_count": 0,
   "metadata": {
    "colab": {},
    "colab_type": "code",
    "id": "ETnWk-kWKpm8"
   },
   "outputs": [],
   "source": [
    "# Loads the drive library and mounts your Google drive as a network mapped drive for the Google Colab Virtual Machine.\n",
    "from google.colab import drive\n",
    "drive.mount('/content/gdrive')"
   ]
  },
  {
   "cell_type": "markdown",
   "metadata": {
    "colab_type": "text",
    "id": "jyW-kUZzMqTq"
   },
   "source": [
    "You can check that your current directory contains a folder named `gdrive`. Check whether the contents are same as in your Google Drive "
   ]
  },
  {
   "cell_type": "code",
   "execution_count": 38,
   "metadata": {
    "colab": {
     "base_uri": "https://localhost:8080/",
     "height": 252
    },
    "colab_type": "code",
    "id": "KqKx-dfUMBFK",
    "outputId": "df0db09b-b19d-4ce1-be8a-7a952e003dc1"
   },
   "outputs": [
    {
     "name": "stdout",
     "output_type": "stream",
     "text": [
      "caffe_inference.py\t\t       opencv_inference.py\n",
      "class2label.txt\t\t\t       solver_lmdb.prototxt\n",
      "CMakeLists.txt\t\t\t       solver.prototxt\n",
      "create_dataset.py\t\t       solver_txtfiles.prototxt\n",
      "create_lmdb.sh\t\t\t       test_images\n",
      "create_txt_files.py\t\t       train_files.txt\n",
      "data\t\t\t\t       train_lmdb\n",
      "deploy.prototxt\t\t\t       train_val.prototxt\n",
      "drive\t\t\t\t       train_val_using_lmdb.prototxt\n",
      "face_orientation_iter_100.caffemodel   train_val_using_txtfiles.prototxt\n",
      "face_orientation_iter_100.solverstate  val_files.txt\n",
      "face_orientation_iter_200.caffemodel   val_lmdb\n",
      "face_orientation_iter_200.solverstate  VGG_ILSVRC_16_layers.caffemodel\n",
      "opencv_inference.cpp\n"
     ]
    }
   ],
   "source": [
    "!ls\n",
    "os.chdir(\"/content/drive/My Drive\")\n",
    "## Uncomment below if wish to see files in your google drive\n",
    "# !ls"
   ]
  },
  {
   "cell_type": "markdown",
   "metadata": {
    "colab_type": "text",
    "id": "CFkuBnlyNmdh"
   },
   "source": [
    "#### Copy your model to Drive\n",
    "\n",
    "Now, you can copy your trained model to your drive just like a hard drive!"
   ]
  },
  {
   "cell_type": "code",
   "execution_count": 37,
   "metadata": {
    "colab": {
     "base_uri": "https://localhost:8080/",
     "height": 34
    },
    "colab_type": "code",
    "id": "lIh9I3p-Mnqk",
    "outputId": "a3250e27-e957-4105-b57d-98304d94594b"
   },
   "outputs": [
    {
     "name": "stdout",
     "output_type": "stream",
     "text": [
      "face_orientation_iter_200.caffemodel\n"
     ]
    }
   ],
   "source": [
    "os.makedirs(\"caffe-face-orientation\")\n",
    "!cp ../../training_cnn_in_caffe/face_orientation_iter_200.caffemodel caffe-face-orientation\n",
    "!ls caffe-face-orientation"
   ]
  },
  {
   "cell_type": "markdown",
   "metadata": {
    "colab_type": "text",
    "id": "ewJoLOjwOobb"
   },
   "source": [
    "## <font color='blue'>5. Exercise</font>\n",
    "\n",
    "I hope it went well till now without any difficulties. Now is the time to explore. I will give some simple tasks for you to perform by changing certain things in the files and see what happens. You should complete those and explore further on those lines to get a better grasp of what's happening.\n"
   ]
  },
  {
   "cell_type": "markdown",
   "metadata": {
    "colab_type": "text",
    "id": "o5nRB2tPO4OJ"
   },
   "source": [
    "### <font color='blue'>Exercise 1 : Change Learning Rate</font>\n",
    "\n",
    "HINT : It can be changed in the solver prototxt files. You can increase / decrease the value and see what happens. Please mention in the comments if you find anything unexpected."
   ]
  },
  {
   "cell_type": "markdown",
   "metadata": {
    "colab_type": "text",
    "id": "LaRFdSghPOA1"
   },
   "source": [
    "### <font color='blue'>Exercise 2 : Train less layers</font>\n",
    "HINT : In the train_val prototxt files, decrease the number of layers you are training. It can be done by changing the `lr_mult` to `0` for the layer you want to modify."
   ]
  },
  {
   "cell_type": "markdown",
   "metadata": {
    "colab_type": "text",
    "id": "kzcy-m6BPQiX"
   },
   "source": [
    "### <font color='blue'>Exercise 3 : Do the same experiment for a different Network</font>\n",
    "Do the same experiment for the Caffenet Network. You can download it from the Caffe Model zoo - https://github.com/BVLC/caffe/tree/master/models/bvlc_reference_caffenet. You have to modify the train_val and solver files in the same way we did in the previous steps. You can either do a wget or clone the entire repo to Colab.\n",
    "\n",
    "Does the accuracy increase or decrease?\n",
    "\n",
    "Try out other models like GoogleNet, AlexNet which are present in the same [models folder](https://github.com/BVLC/caffe/tree/master/models)."
   ]
  },
  {
   "cell_type": "markdown",
   "metadata": {
    "colab_type": "text",
    "id": "xjhwEnb1PvuH"
   },
   "source": [
    "## <font color='blue'>References</font>\n",
    "\n",
    "https://github.com/intel/caffe/wiki/How-to-create-ImageNet-LMDB\n",
    "\n",
    "https://medium.com/deep-learning-turkey/google-colab-free-gpu-tutorial-e113627b9f5d"
   ]
  }
 ],
 "metadata": {
  "accelerator": "GPU",
  "colab": {
   "collapsed_sections": [],
   "include_colab_link": true,
   "name": "Training_a_CNN_in_Caffe.ipynb",
   "provenance": []
  },
  "kernelspec": {
   "display_name": "Python 3",
   "language": "python",
   "name": "python3"
  },
  "language_info": {
   "codemirror_mode": {
    "name": "ipython",
    "version": 3
   },
   "file_extension": ".py",
   "mimetype": "text/x-python",
   "name": "python",
   "nbconvert_exporter": "python",
   "pygments_lexer": "ipython3",
   "version": "3.7.3"
  }
 },
 "nbformat": 4,
 "nbformat_minor": 1
}
