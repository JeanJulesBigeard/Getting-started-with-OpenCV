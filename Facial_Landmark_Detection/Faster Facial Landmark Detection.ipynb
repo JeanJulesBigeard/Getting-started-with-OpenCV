{
 "cells": [
  {
   "cell_type": "markdown",
   "metadata": {},
   "source": [
    "# Faster Facial Landmark Detection"
   ]
  },
  {
   "cell_type": "markdown",
   "metadata": {},
   "source": [
    "### How to speed up facial landmark detector"
   ]
  },
  {
   "cell_type": "markdown",
   "metadata": {},
   "source": [
    "Dlib has a very good implementation of a very fast facial landmark detector. However, you sometimes hear people complain that Dlib’s facial landmark detector is slow. Out of the box, it appears to be slow, but that is not because of bad implementation of the Facial Landmark Detector.\n",
    "\n",
    "Dlib’s facial landmark detector implements a [paper](http://www.csc.kth.se/~vahidk/papers/KazemiCVPR14.pdf) that can detect landmarks in just 1 millisecond! That is 1000 frames a second. You will never get 1000 fps because the landmark detector is not the bottleneck.\n",
    "\n",
    "Optimizing code for speed involves first finding the bottlenecks. Sometimes I get an email from people asking what parameters to choose while training Dlib’s landmark detector to make it faster. Now, that is a wrong place to optimize because even though you can indeed make the landmark detector faster by optimizing training parameters, it will make zero difference to the final product. Even if you make it twice as fast, the code that now runs in 1 millisecond, will run in 0.5 milliseconds after all the optimizations you have done.\n",
    "\n",
    "Let’s find out the bottlenecks and how to improve the speed."
   ]
  },
  {
   "cell_type": "markdown",
   "metadata": {},
   "source": [
    "### Compile Dlib in Release Mode with Optimizations turned on"
   ]
  },
  {
   "cell_type": "markdown",
   "metadata": {},
   "source": [
    "As mentioned in Dlib’s [documentation](http://dlib.net/faq.html#Whyisdlibslow), it is critical to compile Dlib in release mode with appropriate compiler instructions turned on. The instructions in section 1.1 have been adapted from Dlib’s website and included for your convenience."
   ]
  },
  {
   "cell_type": "markdown",
   "metadata": {},
   "source": [
    "### Speed Up Face Detection"
   ]
  },
  {
   "cell_type": "markdown",
   "metadata": {},
   "source": [
    "As you have seen in the previous section, landmark detection is a two step process. First, the faces are detected in an image, and then landmark detector is run inside each face bounding box.\n",
    "\n",
    "The landmark detector runs in 1 millisecond. The face detector, depending on the size of the image, can take anywhere between 15 milliseconds to 60 milliseconds or even more. Face detection is the biggest bottleneck that needs to be addressed.\n",
    "\n",
    "The following steps will help speed up face detection with small ( probably negligible ) loss in accuracy."
   ]
  },
  {
   "cell_type": "markdown",
   "metadata": {},
   "source": [
    "### Resize Frame"
   ]
  },
  {
   "cell_type": "markdown",
   "metadata": {},
   "source": [
    "Facial Landmark Detector algorithms requires the user to provide a bounding box containing a face. The algorithm takes as input the image along with this box and returns the landmarks. The speed of face detection depends on the the resolution of the image because with smaller resolution images, you look for a smaller range of face sizes. The downside is that you will miss out smaller faces, but in many applications we have one person looking at the camera / webcam.\n",
    "\n",
    "An easy way to speed up face detection is to resize the frame. My webcam records video at 720p ( i.e. 1280×720 ) resolution and I resize the image to a fixed height and vary the width accordingly. The bounding box obtained after face detection should be resized back by dividing the coordinates by the scale used for resizing the original frame. This allows us to do landmark detection at full resolution."
   ]
  },
  {
   "cell_type": "markdown",
   "metadata": {},
   "source": [
    "### Skip frame\n",
    "\n",
    "Typically webcams record video at 30 fps. In a typical application you are sitting right in front of the webcam and not moving much. So there is no need to detect the face in every frame. We can simply do facial landmark detection based on facial bounding box obtained a few frames earlier. If you do face detection every 3 frames, you can have just sped up landmark detection by almost three times.\n",
    "\n",
    "Is it possible to do better than using the previous location of the frame ? Yes, we can use object tracking methods to track the location of the face in frames where detection is not done, but in a webcam / selfie application it is an overkill."
   ]
  },
  {
   "cell_type": "markdown",
   "metadata": {},
   "source": [
    "### Optimizing Display\n",
    "\n",
    "Third of the time was spent in drawing the landmarks and displaying the frame. In a real world application, you should never use HighGUI. The platform you work with usually has methods for capturing and rendering frames, and you can use different threads for processing frames and displaying them.\n",
    "\n",
    "By default imshow with waitKey slows down execution speed because rendering of the output to screen happens in the same thread."
   ]
  },
  {
   "cell_type": "markdown",
   "metadata": {},
   "source": [
    "### Resize Frame\n",
    "\n",
    "We resize the image to half resolution for display. This makes a huge difference because when the resolution is changed from 720p to 360p, the actual number of pixels that need to be displayed goes down by a factor of 4."
   ]
  },
  {
   "cell_type": "markdown",
   "metadata": {},
   "source": [
    "### Speed Up Code"
   ]
  },
  {
   "cell_type": "code",
   "execution_count": 1,
   "metadata": {},
   "outputs": [],
   "source": [
    "import cv2,dlib\n",
    "import sys\n",
    "from renderFace import renderFace"
   ]
  },
  {
   "cell_type": "code",
   "execution_count": 2,
   "metadata": {},
   "outputs": [],
   "source": [
    "PREDICTOR_PATH = \"shape_predictor_68_face_landmarks.dat\""
   ]
  },
  {
   "cell_type": "markdown",
   "metadata": {},
   "source": [
    "#### Set parameters for resizing and skipping frames"
   ]
  },
  {
   "cell_type": "code",
   "execution_count": 3,
   "metadata": {},
   "outputs": [],
   "source": [
    "RESIZE_HEIGHT = 480\n",
    "SKIP_FRAMES = 2"
   ]
  },
  {
   "cell_type": "markdown",
   "metadata": {},
   "source": [
    "#### Initialize the video capture device"
   ]
  },
  {
   "cell_type": "code",
   "execution_count": 4,
   "metadata": {},
   "outputs": [],
   "source": [
    "# Create an imshow window\n",
    "winName = \"Fast Facial Landmark Detector\"\n",
    "\n",
    "# Create a VideoCapture object\n",
    "cap = cv2.VideoCapture(0)\n",
    "\n",
    "# Check if OpenCV is able to read feed from camera\n",
    "if (cap.isOpened() is False):\n",
    "    print(\"Unable to connect to camera\")\n",
    "    sys.exit()\n",
    "\n",
    "# Just a place holder. Actual value calculated after 100 frames.\n",
    "fps = 30.0\n",
    "\n",
    "# Get first frame\n",
    "ret, im = cap.read()"
   ]
  },
  {
   "cell_type": "markdown",
   "metadata": {},
   "source": [
    "#### Resize the input frame"
   ]
  },
  {
   "cell_type": "code",
   "execution_count": 5,
   "metadata": {},
   "outputs": [],
   "source": [
    "# We will use a fixed height image as input to face detector\n",
    "if ret == True:\n",
    "    height = im.shape[0]\n",
    "    # calculate resize scale\n",
    "    RESIZE_SCALE = float(height)/RESIZE_HEIGHT\n",
    "    size = im.shape[0:2]\n",
    "else:\n",
    "    print(\"Unable to read frame\")\n",
    "    sys.exit()"
   ]
  },
  {
   "cell_type": "markdown",
   "metadata": {},
   "source": [
    "#### Set up face detector and landmark detector "
   ]
  },
  {
   "cell_type": "code",
   "execution_count": 6,
   "metadata": {},
   "outputs": [],
   "source": [
    "# Load face detection and pose estimation models\n",
    "detector = dlib.get_frontal_face_detector()\n",
    "predictor = dlib.shape_predictor(PREDICTOR_PATH)\n",
    "# initiate the tickCounter\n",
    "t = cv2.getTickCount()\n",
    "count = 0"
   ]
  },
  {
   "cell_type": "markdown",
   "metadata": {},
   "source": [
    "#### Loop over the video and display the result \n",
    "\n",
    "The main thing to note in this loop is that we go over each frame and use SKIP_FRAMES to perform face detection and landmark detection after skipping certain number of frames.\n",
    "\n",
    "And also rezize the output frame so that rendering the video takes lesser time."
   ]
  },
  {
   "cell_type": "code",
   "execution_count": null,
   "metadata": {},
   "outputs": [],
   "source": [
    "# Grab and process frames until the main window is closed by the user.\n",
    "while(True):\n",
    "    if count==0:\n",
    "      t = cv2.getTickCount()\n",
    "    # Grab a frame\n",
    "    ret, im = cap.read()\n",
    "    imDlib = cv2.cvtColor(im, cv2.COLOR_BGR2RGB)\n",
    "    \n",
    "    # create imSmall by resizing image by resize scale\n",
    "    imSmall= cv2.resize(im, None, fx = 1.0/RESIZE_SCALE, fy = 1.0/RESIZE_SCALE, interpolation = cv2.INTER_LINEAR)\n",
    "    imSmallDlib = cv2.cvtColor(imSmall, cv2.COLOR_BGR2RGB)\n",
    "    \n",
    "    # Process frames at an interval of SKIP_FRAMES.\n",
    "    # This value should be set depending on your system hardware\n",
    "    # and camera fps.\n",
    "    # To reduce computations, this value should be increased\n",
    "    if (count % SKIP_FRAMES == 0):\n",
    "      # Detect faces\n",
    "      faces = detector(imSmallDlib,0)\n",
    "\n",
    "    # Iterate over faces\n",
    "    for face in faces:\n",
    "      # Since we ran face detection on a resized image,\n",
    "      # we will scale up coordinates of face rectangle\n",
    "      newRect = dlib.rectangle(int(face.left() * RESIZE_SCALE),\n",
    "                               int(face.top() * RESIZE_SCALE),\n",
    "                               int(face.right() * RESIZE_SCALE),\n",
    "                               int(face.bottom() * RESIZE_SCALE))\n",
    "\n",
    "      # Find face landmarks by providing reactangle for each face\n",
    "      shape = predictor(imDlib, newRect)\n",
    "      # Draw facial landmarks\n",
    "      renderFace(im, shape)\n",
    "\n",
    "    # Put fps at which we are processinf camera feed on frame\n",
    "    cv2.putText(im, \"{0:.2f}-fps\".format(fps), (50, size[0]-50), cv2.FONT_HERSHEY_COMPLEX, 1.5, (0, 0, 255), 3)\n",
    "    # Display it all on the screen\n",
    "    cv2.imshow(winName, im)\n",
    "    # Wait for keypress\n",
    "    key = cv2.waitKey(1) & 0xFF\n",
    "\n",
    "    # Stop the program.\n",
    "    if key==27:  # ESC\n",
    "      # If ESC is pressed, exit.\n",
    "      sys.exit()\n",
    "\n",
    "    # increment frame counter\n",
    "    count = count + 1\n",
    "    # calculate fps at an interval of 100 frames\n",
    "    if (count == 100):\n",
    "      t = (cv2.getTickCount() - t)/cv2.getTickFrequency()\n",
    "      fps = 100.0/t\n",
    "      count = 0\n",
    "cv2.destroyAllWindows()\n",
    "cap.release()"
   ]
  }
 ],
 "metadata": {
  "kernelspec": {
   "display_name": "Python 3",
   "language": "python",
   "name": "python3"
  },
  "language_info": {
   "codemirror_mode": {
    "name": "ipython",
    "version": 3
   },
   "file_extension": ".py",
   "mimetype": "text/x-python",
   "name": "python",
   "nbconvert_exporter": "python",
   "pygments_lexer": "ipython3",
   "version": "3.7.3"
  }
 },
 "nbformat": 4,
 "nbformat_minor": 2
}
