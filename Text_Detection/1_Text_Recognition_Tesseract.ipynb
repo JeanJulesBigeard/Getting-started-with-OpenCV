{
  "nbformat": 4,
  "nbformat_minor": 0,
  "metadata": {
    "colab": {
      "name": "1_Text_Recognition_Tesseract.ipynb",
      "provenance": [],
      "collapsed_sections": [],
      "include_colab_link": true
    },
    "kernelspec": {
      "name": "python3",
      "display_name": "Python 3"
    }
  },
  "cells": [
    {
      "cell_type": "markdown",
      "metadata": {
        "id": "view-in-github",
        "colab_type": "text"
      },
      "source": [
        "<a href=\"https://colab.research.google.com/github/JeanJulesBigeard/Getting-started-with-OpenCV/blob/master/Text_Detection/1_Text_Recognition_Tesseract.ipynb\" target=\"_parent\"><img src=\"https://colab.research.google.com/assets/colab-badge.svg\" alt=\"Open In Colab\"/></a>"
      ]
    },
    {
      "cell_type": "markdown",
      "metadata": {
        "id": "cgrd3FlJDn2u",
        "colab_type": "text"
      },
      "source": [
        "# <font color=\"blue\">Introduction to Tesseract</font>\n",
        "Tesseract is an open source text recognition (OCR) Engine - It is used to extract text from images. It is available under the Apache 2.0 license. It is also one of the best free softwares for performing OCR.\n",
        "\n",
        "Tesseract was originally developed at HP between 1985 and 1998. In 2005 Tesseract was open sourced by HP. Since 2006 it is developed by Google.\n",
        "\n",
        "The latest (LSTM based) stable version is v4.x which supports many additional languages ( around 116 languages ). \n",
        "\n",
        "We will use pytesseract - a python wrapper for Tesseract in this course.\n",
        "\n",
        "In this notebook, we will see the supported functions and how to extract text from images. We will also see how to use it for other langauges."
      ]
    },
    {
      "cell_type": "markdown",
      "metadata": {
        "id": "ONKd4B6G-f8i",
        "colab_type": "text"
      },
      "source": [
        "# <font color=\"blue\">Install Tesseract library</font>"
      ]
    },
    {
      "cell_type": "code",
      "metadata": {
        "id": "Ip5LAcpMVpoz",
        "colab_type": "code",
        "outputId": "c6d3e17a-92c5-4c58-a170-03b0edd6ac73",
        "colab": {
          "base_uri": "https://localhost:8080/",
          "height": 68
        }
      },
      "source": [
        "!apt install libtesseract-dev tesseract-ocr > /dev/null"
      ],
      "execution_count": 0,
      "outputs": [
        {
          "output_type": "stream",
          "text": [
            "\n",
            "WARNING: apt does not have a stable CLI interface. Use with caution in scripts.\n",
            "\n"
          ],
          "name": "stdout"
        }
      ]
    },
    {
      "cell_type": "markdown",
      "metadata": {
        "id": "LTLWqG-4-_BH",
        "colab_type": "text"
      },
      "source": [
        "# <font color=\"blue\">Install Python wrapper for Tesseract </font>"
      ]
    },
    {
      "cell_type": "code",
      "metadata": {
        "id": "k7F0IyJ8VfnG",
        "colab_type": "code",
        "colab": {}
      },
      "source": [
        "!pip install pytesseract > /dev/null"
      ],
      "execution_count": 0,
      "outputs": []
    },
    {
      "cell_type": "markdown",
      "metadata": {
        "id": "EhDZ1eVK_Evf",
        "colab_type": "text"
      },
      "source": [
        "# <font color=\"blue\">Import Libraries </font>"
      ]
    },
    {
      "cell_type": "code",
      "metadata": {
        "id": "VR5F102-Vt_v",
        "colab_type": "code",
        "colab": {}
      },
      "source": [
        "import pytesseract\n",
        "import cv2\n",
        "import glob\n",
        "import matplotlib.pyplot as plt\n",
        "%matplotlib inline\n",
        "from IPython.display import Image"
      ],
      "execution_count": 0,
      "outputs": []
    },
    {
      "cell_type": "markdown",
      "metadata": {
        "id": "3b4M_3GiBimN",
        "colab_type": "text"
      },
      "source": [
        "# <font color=\"blue\">Test Image 1 </font>\n",
        "We will download a screenshot taken from the Keras Library"
      ]
    },
    {
      "cell_type": "code",
      "metadata": {
        "id": "wZWkPYFn-a5z",
        "colab_type": "code",
        "colab": {}
      },
      "source": [
        "!wget https://www.dropbox.com/s/v3z5l2mq8swea1e/keras-snapshot.jpg?dl=1 -O text1.jpg --quiet"
      ],
      "execution_count": 0,
      "outputs": []
    },
    {
      "cell_type": "markdown",
      "metadata": {
        "id": "WOY-44PLED7k",
        "colab_type": "text"
      },
      "source": [
        "### <font color=\"green\">Downloaded Image</font>\n",
        "![](https://www.dropbox.com/s/v3z5l2mq8swea1e/keras-snapshot.jpg?dl=1)"
      ]
    },
    {
      "cell_type": "markdown",
      "metadata": {
        "id": "rri99QrnDYb5",
        "colab_type": "text"
      },
      "source": [
        "# <font color=\"blue\">Perform OCR</font>\n",
        "Tesseract provides a very easy to use interface (with a lot of flexibility and parameters) to perform OCR on images."
      ]
    },
    {
      "cell_type": "markdown",
      "metadata": {
        "id": "7VqqCzFj_KfV",
        "colab_type": "text"
      },
      "source": [
        "### <font color=\"green\">Output </font>"
      ]
    },
    {
      "cell_type": "code",
      "metadata": {
        "id": "juIRqDHY-bCP",
        "colab_type": "code",
        "outputId": "abf8c3be-e45c-4c17-ca89-af90fd762a55",
        "colab": {
          "base_uri": "https://localhost:8080/",
          "height": 68
        }
      },
      "source": [
        "text1 = pytesseract.image_to_string('text1.jpg')\n",
        "print(text1)"
      ],
      "execution_count": 0,
      "outputs": [
        {
          "output_type": "stream",
          "text": [
            "Keras is a high-level neural networks API, written in Python and capable of running on top of\n",
            "TensorFlow, CNTK, or Theano. It was developed with a focus on enabling fast experimentation.\n",
            "Being able to go from idea to result with the least possible delay is key to doing good research.\n"
          ],
          "name": "stdout"
        }
      ]
    },
    {
      "cell_type": "markdown",
      "metadata": {
        "id": "bCHvJ2m2YBXC",
        "colab_type": "text"
      },
      "source": [
        "# <font color=\"blue\">Test Image 2 </font>\n",
        "We will use a screenshot of a full page from Chapter 9 of deep learning book by Ian Goodfellow."
      ]
    },
    {
      "cell_type": "code",
      "metadata": {
        "id": "twGSNoAZ-ba2",
        "colab_type": "code",
        "colab": {}
      },
      "source": [
        "!wget https://www.dropbox.com/s/ai7dsbpsyjb2inx/cnn-snapshot.jpg?dl=1 -O text2.jpg --quiet"
      ],
      "execution_count": 0,
      "outputs": []
    },
    {
      "cell_type": "markdown",
      "metadata": {
        "id": "gX-UF6MaEo_f",
        "colab_type": "text"
      },
      "source": [
        "### Downloaded Image\n",
        "![](https://www.dropbox.com/s/ai7dsbpsyjb2inx/cnn-snapshot.jpg?dl=1)"
      ]
    },
    {
      "cell_type": "markdown",
      "metadata": {
        "id": "jjD_6FvH_C27",
        "colab_type": "text"
      },
      "source": [
        "### <font color=\"green\">Output </font>"
      ]
    },
    {
      "cell_type": "code",
      "metadata": {
        "id": "e6nqEiwF-biQ",
        "colab_type": "code",
        "outputId": "54edd0e0-bb34-4c6f-8850-86ca088c6836",
        "colab": {
          "base_uri": "https://localhost:8080/",
          "height": 527
        }
      },
      "source": [
        "text2 = pytesseract.image_to_string('text2.jpg')\n",
        "print(text2)"
      ],
      "execution_count": 0,
      "outputs": [
        {
          "output_type": "stream",
          "text": [
            "Chapter 9\n",
            "\n",
            "Convolutional Networks\n",
            "\n",
            "Convolutional networks (LeCun, 1989), also known as convolutional neural\n",
            "networks, or CNNs, are a specialized kind of neural network for processing data\n",
            "that has a known grid-like topology. Examples include time-series data, which can\n",
            "be thought of as a 1-D grid taking samples at regular time intervals, and image data,\n",
            "which can be thought of as a 2-D grid of pixels. Convolutional networks have been\n",
            "tremendously successful in practical applications. The name “convolutional neural\n",
            "network” indicates that the network employs a mathematical operation called\n",
            "convolution. Convolution is a specialized kind of linear operation. Convolutional\n",
            "networks are simply neural networks that use convolution in place of general matrix\n",
            "multiplication in at least one of their layers.\n",
            "\n",
            "In this chapter, we first describe what convolution is. Next, we explain the\n",
            "motivation behind using convolution in a neural network. We then describe an\n",
            "operation called pooling, which almost all convolutional networks employ. Usually,\n",
            "the operation used in a convolutional neural network does not correspond precisely\n",
            "to the definition of convolution as used in other fields, such as engineering or\n",
            "pure mathematics. We describe several variants on the convolution function that\n",
            "are widely used in practice for neural networks. We also show how convolution\n",
            "may be applied to many kinds of data, with different numbers of dimensions. We\n",
            "then discuss means of making convolution more efficient. Convolutional networks\n",
            "stand out as an example of neuroscientific principles influencing deep learning.\n",
            "We discuss these neuroscientific principles, then conclude with comments about\n",
            "the role convolutional networks have played in the history of deep learning. One\n",
            "topic this chapter does not address is how to choose the architecture of your\n",
            "convolutional network. The goal of this chapter is to describe the kinds of tools\n",
            "that convolutional networks provide, while chapter 11 describes general guidelines\n"
          ],
          "name": "stdout"
        }
      ]
    },
    {
      "cell_type": "markdown",
      "metadata": {
        "id": "qw1LLu0wGhpM",
        "colab_type": "text"
      },
      "source": [
        "### <font color=\"green\">Observation </font>\n",
        "Wow! It does a really good job even with a large text body.\n",
        "\n",
        "It identifies special characters like  \"(\" , \".\" , \",\" , \"-\" , etc."
      ]
    },
    {
      "cell_type": "markdown",
      "metadata": {
        "id": "hkf6uzz3YOHD",
        "colab_type": "text"
      },
      "source": [
        "# <font color=\"blue\">Test Image 3</font>\n",
        "Till now we have seen \"nice\" images with uniform white backgrounds and black text. Let us make life a little harder for Tesseract with some different color background and non-uniform text. \n",
        "\n",
        "We will use a scanned image of the back of Computer Vision book by Forsyth and Ponce."
      ]
    },
    {
      "cell_type": "code",
      "metadata": {
        "id": "1miIN4EsYYRY",
        "colab_type": "code",
        "colab": {}
      },
      "source": [
        "!wget https://www.dropbox.com/s/zrr4tvozzjbfrzv/forsyth_scan.jpg?dl=1 -O text3.jpg --quiet"
      ],
      "execution_count": 0,
      "outputs": []
    },
    {
      "cell_type": "markdown",
      "metadata": {
        "id": "ZQFZ90CCYcD0",
        "colab_type": "text"
      },
      "source": [
        "### <font color=\"green\">Downloaded Image</font>\n",
        "<img src=\"https://www.dropbox.com/s/zrr4tvozzjbfrzv/forsyth_scan.jpg?dl=1\" width=600>"
      ]
    },
    {
      "cell_type": "markdown",
      "metadata": {
        "id": "ne4E4fIu_WjI",
        "colab_type": "text"
      },
      "source": [
        "### <font color=\"green\">Output </font>"
      ]
    },
    {
      "cell_type": "code",
      "metadata": {
        "id": "KCkqoAqPYYPP",
        "colab_type": "code",
        "outputId": "e98183bf-c5e4-4d21-c52f-b39662d81658",
        "colab": {
          "base_uri": "https://localhost:8080/",
          "height": 714
        }
      },
      "source": [
        "text3 = pytesseract.image_to_string('text3.jpg')\n",
        "print(text3)"
      ],
      "execution_count": 0,
      "outputs": [
        {
          "output_type": "stream",
          "text": [
            "Computer Vision\n",
            "\n",
            "A MODERN APPROACH\n",
            "\n",
            "DAVID A. FORSYTH\n",
            "\n",
            "University of California at Berkeley\n",
            "\n",
            "JEAN PONCE\n",
            "\n",
            "University of Illinois at Urbana-Champaign\n",
            "\n",
            " \n",
            "\n",
            "Whether in the entertainment industry (building three-dimensiona! computer models), medical imaging,\n",
            "interpreting satellite images (both for military and civilian purposes), the applications of computer\n",
            "vision is varied and wide ranging. And this compact yet comprehensive text provides a survey of the\n",
            "field of computer vision and views it from a modern perspective. It is self-contained, accessible, and\n",
            "lays emphasis on basic geometry, physics of imaging and probabilistic techniques.\n",
            "\n",
            "Throughout, the authors attempt to lay bare the essentials of computer vision to the students as\n",
            "also to the professionals. The text reflects the latest developments in the field and integrates the\n",
            "learning tools that aid understanding.\n",
            "\n",
            " \n",
            "\n",
            "This uptodate, contemporary text would be useful for students of computer science, IT and MCA\n",
            "offering courses in computer graphics, robotics, image processing, and imaging in general. It would\n",
            "prove equally valuable for the professionals.\n",
            "\n",
            "KEY FEATURES\n",
            "\n",
            "Y Application Features—Numerous examples, including image based rendering and digital libraries\n",
            "Y Boxed Algorithms—Key algorithms broken out and illustrated in pseudo code\n",
            "W Extensive Detailed IMustrations—Examples of inputs and outputs for current methods\n",
            "\n",
            "Y Programming Assignments—50 programming assignments and 150 exercises\n",
            "\n",
            "= iui\n",
            "\n",
            "www.phindia.com\n"
          ],
          "name": "stdout"
        }
      ]
    },
    {
      "cell_type": "markdown",
      "metadata": {
        "id": "UQCMQ29_aF20",
        "colab_type": "text"
      },
      "source": [
        "### <font color=\"green\">Observation </font>\n",
        "From the above output, you can see that Tesseract output even preserves the Capitalized words and the formatting, making it ideal for document analysis and OCR."
      ]
    },
    {
      "cell_type": "markdown",
      "metadata": {
        "id": "5Xhud4M4QV_V",
        "colab_type": "text"
      },
      "source": [
        "# <font color=\"blue\">Output Type</font>\n",
        "Before going further, it is worth noting that the output of Tesseract is in the form of a **string by default**. There are other output types supported like a **dictionary, Byte or DataFrame**. In many cases, changing the output format might help if you need to perform further analysis of the output."
      ]
    },
    {
      "cell_type": "markdown",
      "metadata": {
        "id": "wF_ImjAXHGxJ",
        "colab_type": "text"
      },
      "source": [
        "# <font color=\"blue\">Tesseract Functions </font>\n",
        "\n",
        "- **`get_tesseract_version`** - Returns the Tesseract version installed in the system.\n",
        "- **`image_to_string`** - Returns the result of a Tesseract OCR run on the image as a single string\n",
        "- **`image_to_boxes`** - Returns the recognized characters and their box boundaries.\n",
        "- **`image_to_data`** - Returns the box boundaries/locations, confidences, words etc. \n",
        "- **`image_to_osd`** - Returns result containing information about orientation and script detection.\n",
        "- **`image_to_pdf_or_hocr`** - Returns a searchable PDF from the input image.\n",
        "- **`run_and_get_output`** - Returns the raw output from Tesseract OCR. This gives a bit more control over the parameters that are sent to tesseract.\n"
      ]
    },
    {
      "cell_type": "markdown",
      "metadata": {
        "id": "686bQgCuPQpz",
        "colab_type": "text"
      },
      "source": [
        "### <font color=\"green\">Check the detected characters </font>"
      ]
    },
    {
      "cell_type": "code",
      "metadata": {
        "id": "Y3MoQMgIRvFC",
        "colab_type": "code",
        "outputId": "2b5d89a3-14bc-4cab-c3e5-e0ea7c0dee63",
        "colab": {
          "base_uri": "https://localhost:8080/",
          "height": 136
        }
      },
      "source": [
        "boxes = pytesseract.image_to_boxes(\"text1.jpg\")\n",
        "print(boxes[:100])"
      ],
      "execution_count": 0,
      "outputs": [
        {
          "output_type": "stream",
          "text": [
            "K 12 65 14 76 0\n",
            "e 14 65 21 76 0\n",
            "r 22 65 29 73 0\n",
            "a 31 65 35 73 0\n",
            "s 36 65 42 73 0\n",
            "i 43 65 49 73 0\n",
            "s 55\n"
          ],
          "name": "stdout"
        }
      ]
    },
    {
      "cell_type": "markdown",
      "metadata": {
        "id": "sMAUENHtRz8N",
        "colab_type": "text"
      },
      "source": [
        "You can see the result gives you the location of each recognized character. But, from the above, it is difficult to decipher how the location information is stored. Let us change the output type to dict which will show us what each of the column indicates."
      ]
    },
    {
      "cell_type": "code",
      "metadata": {
        "id": "55i2acddPPRT",
        "colab_type": "code",
        "outputId": "160a6537-a45d-4630-cb9c-1ba5f1bc32f0",
        "colab": {
          "base_uri": "https://localhost:8080/",
          "height": 34
        }
      },
      "source": [
        "boxes = pytesseract.image_to_boxes(\"text1.jpg\",output_type=\"dict\")\n",
        "print(boxes.keys())"
      ],
      "execution_count": 0,
      "outputs": [
        {
          "output_type": "stream",
          "text": [
            "dict_keys(['char', 'left', 'bottom', 'right', 'top', 'page'])\n"
          ],
          "name": "stdout"
        }
      ]
    },
    {
      "cell_type": "markdown",
      "metadata": {
        "id": "fU4wpVkoSQBE",
        "colab_type": "text"
      },
      "source": [
        "So, the location is given by (left, bottom) and (top, right) coordinates"
      ]
    },
    {
      "cell_type": "markdown",
      "metadata": {
        "id": "q0yElQ3eSrHj",
        "colab_type": "text"
      },
      "source": [
        "### <font color=\"green\">Check Detected Words </font>"
      ]
    },
    {
      "cell_type": "code",
      "metadata": {
        "id": "QKv5JxVUS3h-",
        "colab_type": "code",
        "outputId": "ce74089a-c119-4693-969f-72fbf10839a8",
        "colab": {
          "base_uri": "https://localhost:8080/",
          "height": 272
        }
      },
      "source": [
        "data = pytesseract.image_to_data(\"text1.jpg\")\n",
        "print(data[:500])"
      ],
      "execution_count": 0,
      "outputs": [
        {
          "output_type": "stream",
          "text": [
            "level\tpage_num\tblock_num\tpar_num\tline_num\tword_num\tleft\ttop\twidth\theight\tconf\ttext\n",
            "1\t1\t0\t0\t0\t0\t0\t0\t688\t91\t-1\t\n",
            "2\t1\t1\t0\t0\t0\t11\t14\t662\t63\t-1\t\n",
            "3\t1\t1\t1\t0\t0\t11\t14\t662\t63\t-1\t\n",
            "4\t1\t1\t1\t1\t0\t12\t14\t645\t15\t-1\t\n",
            "5\t1\t1\t1\t1\t1\t12\t15\t30\t11\t92\tKeras\n",
            "5\t1\t1\t1\t1\t2\t43\t15\t21\t11\t95\tis\n",
            "5\t1\t1\t1\t1\t3\t69\t18\t7\t8\t95\ta\n",
            "5\t1\t1\t1\t1\t4\t82\t14\t66\t15\t95\thigh-level\n",
            "5\t1\t1\t1\t1\t5\t154\t15\t42\t11\t96\tneural\n",
            "5\t1\t1\t1\t1\t6\t202\t15\t57\t11\t95\tnetworks\n",
            "5\t1\t1\t1\t1\t7\t260\t15\t34\t11\t95\tAPI,\n",
            "5\t1\t1\t1\t1\t8\t296\t15\t56\t13\t89\twritten\n",
            "5\t1\t1\t1\t1\t9\t358\t15\t11\t11\t96\tin\n",
            "5\t1\n"
          ],
          "name": "stdout"
        }
      ]
    },
    {
      "cell_type": "code",
      "metadata": {
        "id": "CrwMtgL4PP-x",
        "colab_type": "code",
        "outputId": "7ec4bb26-c91f-47eb-dab5-75e7855251b3",
        "colab": {
          "base_uri": "https://localhost:8080/",
          "height": 34
        }
      },
      "source": [
        "data = pytesseract.image_to_data(\"text1.jpg\",output_type=\"dict\")\n",
        "print(data.keys())"
      ],
      "execution_count": 0,
      "outputs": [
        {
          "output_type": "stream",
          "text": [
            "dict_keys(['level', 'page_num', 'block_num', 'par_num', 'line_num', 'word_num', 'left', 'top', 'width', 'height', 'conf', 'text'])\n"
          ],
          "name": "stdout"
        }
      ]
    },
    {
      "cell_type": "markdown",
      "metadata": {
        "id": "bVrSToXwKFac",
        "colab_type": "text"
      },
      "source": [
        "### <font color=\"green\">Create Searchable PDF from Image </font>\n",
        "It simply returns the raw tesseract output. "
      ]
    },
    {
      "cell_type": "code",
      "metadata": {
        "id": "1H-fxAf2-br2",
        "colab_type": "code",
        "colab": {}
      },
      "source": [
        "image2pdf = pytesseract.image_to_pdf_or_hocr('text2.jpg')\n",
        "with open('text2.pdf', 'w+b') as f:\n",
        "    f.write(image2pdf)"
      ],
      "execution_count": 0,
      "outputs": []
    },
    {
      "cell_type": "markdown",
      "metadata": {
        "id": "ZAGz_WtqKOTM",
        "colab_type": "text"
      },
      "source": [
        "Now, download the PDF and check for yourself if the PDF is just a scanned image or it is searchable"
      ]
    },
    {
      "cell_type": "markdown",
      "metadata": {
        "id": "bUlGN_dpKbsT",
        "colab_type": "text"
      },
      "source": [
        "### <font color=\"green\">Check Orientation of the Text</font>"
      ]
    },
    {
      "cell_type": "code",
      "metadata": {
        "id": "9G0w3oX0O9qo",
        "colab_type": "code",
        "colab": {}
      },
      "source": [
        "!wget https://wiki.openoffice.org/w/images/c/c2/WG3Ch7F14.png -O text3.png --quiet"
      ],
      "execution_count": 0,
      "outputs": []
    },
    {
      "cell_type": "markdown",
      "metadata": {
        "id": "haT6WP5QPBC6",
        "colab_type": "text"
      },
      "source": [
        "### <font color=\"green\">Downloaded Image</font>\n",
        "![](https://wiki.openoffice.org/w/images/c/c2/WG3Ch7F14.png)"
      ]
    },
    {
      "cell_type": "markdown",
      "metadata": {
        "id": "C5luVumj_to2",
        "colab_type": "text"
      },
      "source": [
        "### <font color=\"green\">Output </font>"
      ]
    },
    {
      "cell_type": "code",
      "metadata": {
        "id": "C4pUun5w-bU4",
        "colab_type": "code",
        "outputId": "58e22e44-53b7-4812-f698-4534173bec83",
        "colab": {
          "base_uri": "https://localhost:8080/",
          "height": 119
        }
      },
      "source": [
        "osd = pytesseract.image_to_osd(\"text3.png\")\n",
        "print(osd)"
      ],
      "execution_count": 0,
      "outputs": [
        {
          "output_type": "stream",
          "text": [
            "Page number: 0\n",
            "Orientation in degrees: 270\n",
            "Rotate: 90\n",
            "Orientation confidence: 0.38\n",
            "Script: Latin\n",
            "Script confidence: 3.33\n"
          ],
          "name": "stdout"
        }
      ]
    },
    {
      "cell_type": "markdown",
      "metadata": {
        "id": "HRN2jVhW_u65",
        "colab_type": "text"
      },
      "source": [
        "You can see that the above document is rotated by 270 (or -90 ) degrees and it has been correctly detected. "
      ]
    },
    {
      "cell_type": "markdown",
      "metadata": {
        "id": "L85RvCXoLBZc",
        "colab_type": "text"
      },
      "source": [
        "# <font color=\"blue\">What about a different language? </font>\n",
        "You can check out the list of supported languages [**here**](https://github.com/tesseract-ocr/tesseract/blob/master/doc/tesseract.1.asc#languages)\n",
        "We will see how to use Tesseract for German language."
      ]
    },
    {
      "cell_type": "code",
      "metadata": {
        "id": "S3d95htxMP7B",
        "colab_type": "code",
        "outputId": "bc8b3e6a-0cc7-4f0f-ccde-abdfbcf20ed3",
        "colab": {
          "base_uri": "https://localhost:8080/",
          "height": 68
        }
      },
      "source": [
        "!apt install tesseract-ocr-deu > /dev/null"
      ],
      "execution_count": 0,
      "outputs": [
        {
          "output_type": "stream",
          "text": [
            "\n",
            "WARNING: apt does not have a stable CLI interface. Use with caution in scripts.\n",
            "\n"
          ],
          "name": "stdout"
        }
      ]
    },
    {
      "cell_type": "markdown",
      "metadata": {
        "id": "4MYvIFDAcXJv",
        "colab_type": "text"
      },
      "source": [
        "# <font color=\"blue\">Test Image 4 </font>"
      ]
    },
    {
      "cell_type": "code",
      "metadata": {
        "id": "Bqudll7IK_fr",
        "colab_type": "code",
        "colab": {}
      },
      "source": [
        "!wget https://www.dropbox.com/s/geevhmy62dy4pzh/german.jpg?dl=0 -O german.jpg --quiet"
      ],
      "execution_count": 0,
      "outputs": []
    },
    {
      "cell_type": "markdown",
      "metadata": {
        "id": "M37ykE16LoUb",
        "colab_type": "text"
      },
      "source": [
        "### Downloaded Image\n",
        "<img src=\"https://www.dropbox.com/s/geevhmy62dy4pzh/german.jpg?dl=1\" width=300>"
      ]
    },
    {
      "cell_type": "markdown",
      "metadata": {
        "id": "OQn4wYAqbWtL",
        "colab_type": "text"
      },
      "source": [
        "### <font color=\"green\">Using Tesseract trained for English </font>"
      ]
    },
    {
      "cell_type": "code",
      "metadata": {
        "id": "JSKtYr0iK_sH",
        "colab_type": "code",
        "outputId": "5690be8f-200e-4071-cde6-779023bf474a",
        "colab": {
          "base_uri": "https://localhost:8080/",
          "height": 170
        }
      },
      "source": [
        "text4 = pytesseract.image_to_string('german.jpg',lang='eng')\n",
        "print(text4)"
      ],
      "execution_count": 0,
      "outputs": [
        {
          "output_type": "stream",
          "text": [
            "English - detected ~ rod German ~\n",
            "\n",
            "Can we check x K6nnen wir\n",
            "\n",
            "whether Uberpriifen, ob\n",
            "Tesseract Tesseract Deutsch\n",
            "understand versteht?\n",
            "\n",
            "German?\n"
          ],
          "name": "stdout"
        }
      ]
    },
    {
      "cell_type": "markdown",
      "metadata": {
        "id": "JHpySRV1bXYp",
        "colab_type": "text"
      },
      "source": [
        "### <font color=\"green\">Using Tesseract trained for German </font>"
      ]
    },
    {
      "cell_type": "code",
      "metadata": {
        "id": "F2avpowuK_zG",
        "colab_type": "code",
        "outputId": "6e39d88a-f398-4cf6-93df-7e485e3fcd5a",
        "colab": {
          "base_uri": "https://localhost:8080/",
          "height": 170
        }
      },
      "source": [
        "text4_german = pytesseract.image_to_string('german.jpg',lang='deu')\n",
        "print(text4_german)"
      ],
      "execution_count": 0,
      "outputs": [
        {
          "output_type": "stream",
          "text": [
            "English - detected = eo German =\n",
            "\n",
            "Can we check x Können wir\n",
            "\n",
            "whether überprüfen, ob\n",
            "Tesseract Tesseract Deutsch\n",
            "understand versteht?\n",
            "\n",
            "German?\n"
          ],
          "name": "stdout"
        }
      ]
    },
    {
      "cell_type": "markdown",
      "metadata": {
        "id": "-JItaMh_Qa-3",
        "colab_type": "text"
      },
      "source": [
        "### <font color=\"green\">Observation </font>\n",
        "You can see that even though it is able to detect most words correctly, but the german language details are missing. For example, \n",
        "1. **`überprüfen`** is detected as **`Uberpriifen`**\n",
        "1. **`Können`** is detected as **`K6nnen`**"
      ]
    },
    {
      "cell_type": "markdown",
      "metadata": {
        "id": "Tr1VvgbCivHb",
        "colab_type": "text"
      },
      "source": [
        "# <font color=\"blue\">Tesseract OCR on Natural Scene Images</font>\n",
        "We have seen how Tesseract performs on scanned documents. The challenging part is how to handle natural scene images because they can have any type of variations ranging from low quality/lighting issues/occlusion/distortion etc."
      ]
    },
    {
      "cell_type": "markdown",
      "metadata": {
        "id": "bXkUcWEHj78L",
        "colab_type": "text"
      },
      "source": [
        "# <font color=\"blue\">Test Image 5</font>\n",
        "We will use an image taken from the camera of the same scan that we used earlier."
      ]
    },
    {
      "cell_type": "code",
      "metadata": {
        "id": "8rO0V9Q2itp4",
        "colab_type": "code",
        "colab": {}
      },
      "source": [
        "!wget https://www.dropbox.com/s/jat0z82d76zlkjg/book1.jpg?dl=1 -O book1.jpg --quiet"
      ],
      "execution_count": 0,
      "outputs": []
    },
    {
      "cell_type": "markdown",
      "metadata": {
        "id": "gze9Akgnjv5V",
        "colab_type": "text"
      },
      "source": [
        "### Downloaded Image\n",
        "<img src=\"https://www.dropbox.com/s/jat0z82d76zlkjg/book1.jpg?dl=1\" width=600>"
      ]
    },
    {
      "cell_type": "code",
      "metadata": {
        "id": "p8HGhLDDit1I",
        "colab_type": "code",
        "outputId": "0f3354ff-e879-4135-e036-48a55d8086a0",
        "colab": {
          "base_uri": "https://localhost:8080/",
          "height": 663
        }
      },
      "source": [
        "text5 = pytesseract.image_to_string('book1.jpg')\n",
        "print(text5)"
      ],
      "execution_count": 0,
      "outputs": [
        {
          "output_type": "stream",
          "text": [
            "Computer Vision\n",
            "A MODERN APPROACH\n",
            "\n",
            "DAVID A. FORSYTH\n",
            "\n",
            "University of California at Berkeley\n",
            "\n",
            "JEAN PONCE\n",
            "\n",
            "University of Illinois at Urbana-Champaign\n",
            "\n",
            "Whether in the entertainment industry (building three-dimensiona! computer models), medical imaging,\n",
            "interpreting satellite images (both for military and civilian purposes), the applications of computer\n",
            "vision is varied and wide ranging. And this compact yet comprehensive text provides a survey of the\n",
            "field of computer vision and views it from a modern perspective. It is self-contained, accessible, and\n",
            "lays emphasis on basic geometry, physics of imaging and probabilistic techniques.\n",
            "\n",
            "Throughout, the authors attempt to lay bare the essentials of computer vision to the students as\n",
            "also to the professionals. The text reflects the latest developments in the field and integrates the\n",
            "learning tools that aid understanding.\n",
            "\n",
            "This uptodate, contemporary text would be useful for students of computer science, IT and MCA\n",
            "offering courses in computer graphics, robotics, image processing, and imaging in general. It would\n",
            "prove equally valuable for the professionals.\n",
            "\n",
            "KEY FEATURES\n",
            "\n",
            "Y Application Features—Numerous examples, including image based rendering and digital libraries\n",
            "Y Boxed Algorithms—Key algorithms broken out and illustrated in pseudo code\n",
            "Y Extensive Detailed Iilustrations—Examples of inputs and outputs for current methods\n",
            "\n",
            "Y Programming Assignments—50 programming assignments and 150 exercises\n",
            "\n",
            "am Wn\n",
            "\n",
            "phindla\n",
            "\n",
            "Bhutan, india, Maldives, Nepal, Pakistan and Sri Lanka Cs\n"
          ],
          "name": "stdout"
        }
      ]
    },
    {
      "cell_type": "markdown",
      "metadata": {
        "id": "mLKqKc-1Zoay",
        "colab_type": "text"
      },
      "source": [
        "### <font color=\"green\">Observation</font>\n",
        "Even though it is natural image, Tesseract is able to perform OCR almost without any errors. This is good, but you will be surprised by how fast the output deteriorates on small changes in the images. \n"
      ]
    },
    {
      "cell_type": "markdown",
      "metadata": {
        "id": "XAOXdTpZvOEW",
        "colab_type": "text"
      },
      "source": [
        "# <font color=\"blue\">Test Image 6</font>\n"
      ]
    },
    {
      "cell_type": "code",
      "metadata": {
        "id": "m5YjoL6qvOWh",
        "colab_type": "code",
        "colab": {}
      },
      "source": [
        "!wget https://www.dropbox.com/s/uwrdek4jjac4ysz/book2.jpg?dl=1 -O book2.jpg --quiet"
      ],
      "execution_count": 0,
      "outputs": []
    },
    {
      "cell_type": "markdown",
      "metadata": {
        "id": "6kCyyYfWvllI",
        "colab_type": "text"
      },
      "source": [
        "### Downloaded Image\n",
        "\n",
        "<img src=\"https://www.dropbox.com/s/uwrdek4jjac4ysz/book2.jpg?dl=1\" width=500>"
      ]
    },
    {
      "cell_type": "code",
      "metadata": {
        "id": "-r8x0wZYwgws",
        "colab_type": "code",
        "outputId": "d07457b3-a132-47f0-fa25-2bdf7c745bae",
        "colab": {
          "base_uri": "https://localhost:8080/",
          "height": 34
        }
      },
      "source": [
        "text6 = pytesseract.image_to_string('book2.jpg')\n",
        "print(text6)"
      ],
      "execution_count": 0,
      "outputs": [
        {
          "output_type": "stream",
          "text": [
            "The Impact of the Highly Improbable\n"
          ],
          "name": "stdout"
        }
      ]
    },
    {
      "cell_type": "markdown",
      "metadata": {
        "id": "bgFJkHHsZPVp",
        "colab_type": "text"
      },
      "source": [
        "### <font color=\"green\">Observation </font>\n",
        "So, it was only able to detect the above text. This needs to be fixed or at least improved. We will see that in the next section."
      ]
    }
  ]
}