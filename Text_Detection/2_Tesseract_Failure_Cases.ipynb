{
  "nbformat": 4,
  "nbformat_minor": 0,
  "metadata": {
    "colab": {
      "name": "2_Tesseract_Failure_Cases.ipynb",
      "provenance": [],
      "collapsed_sections": [],
      "include_colab_link": true
    },
    "kernelspec": {
      "name": "python3",
      "display_name": "Python 3"
    }
  },
  "cells": [
    {
      "cell_type": "markdown",
      "metadata": {
        "id": "view-in-github",
        "colab_type": "text"
      },
      "source": [
        "<a href=\"https://colab.research.google.com/github/JeanJulesBigeard/Getting-started-with-OpenCV/blob/master/Text_Detection/2_Tesseract_Failure_Cases.ipynb\" target=\"_parent\"><img src=\"https://colab.research.google.com/assets/colab-badge.svg\" alt=\"Open In Colab\"/></a>"
      ]
    },
    {
      "cell_type": "markdown",
      "metadata": {
        "id": "znK35cEV83Et",
        "colab_type": "text"
      },
      "source": [
        "# <font color=\"blue\">Failure Cases in Tesseract OCR</font>\n",
        "In this notebook, we will see some instances where Tesseract does not work as expected and provide logical reasons for them. We will see some examples from scanned documents as well as natural camera images.\n",
        "\n",
        "We will discuss how to improve the OCR output in the next notebook."
      ]
    },
    {
      "cell_type": "markdown",
      "metadata": {
        "id": "ONKd4B6G-f8i",
        "colab_type": "text"
      },
      "source": [
        "# <font color=\"blue\">Install Tesseract</font>"
      ]
    },
    {
      "cell_type": "code",
      "metadata": {
        "id": "Ip5LAcpMVpoz",
        "colab_type": "code",
        "outputId": "7541fff1-c59c-414d-9bde-1399a0f027fe",
        "colab": {
          "base_uri": "https://localhost:8080/",
          "height": 68
        }
      },
      "source": [
        "!apt install libtesseract-dev tesseract-ocr > /dev/null\n",
        "!pip install pytesseract > /dev/null"
      ],
      "execution_count": 0,
      "outputs": [
        {
          "output_type": "stream",
          "text": [
            "\n",
            "WARNING: apt does not have a stable CLI interface. Use with caution in scripts.\n",
            "\n"
          ],
          "name": "stdout"
        }
      ]
    },
    {
      "cell_type": "markdown",
      "metadata": {
        "id": "EhDZ1eVK_Evf",
        "colab_type": "text"
      },
      "source": [
        "# <font color=\"blue\">Import Libraries </font>"
      ]
    },
    {
      "cell_type": "code",
      "metadata": {
        "id": "VR5F102-Vt_v",
        "colab_type": "code",
        "colab": {}
      },
      "source": [
        "import pytesseract\n",
        "import cv2\n",
        "import glob\n",
        "import matplotlib.pyplot as plt\n",
        "%matplotlib inline\n",
        "from IPython.display import Image"
      ],
      "execution_count": 0,
      "outputs": []
    },
    {
      "cell_type": "markdown",
      "metadata": {
        "id": "-4YqkRIefLKI",
        "colab_type": "text"
      },
      "source": [
        "# <font color=\"blue\">Failure Cases Categories </font>\n",
        "Even though failure cannot be always attributed to one specific reasons, We have listed a few major reasons for failure of OCR using Tesseract and in general. They are:\n",
        "1. **Cluttered Background** - The text might not be visibly clear or it might appear camouflaged with the background.\n",
        "1. **Small Text** - The text might be too small to be detected. \n",
        "1. **Rotation or Perspective Distortion** - The text might be rotated in the image or the image itself might be distorted.\n"
      ]
    },
    {
      "cell_type": "markdown",
      "metadata": {
        "id": "XAOXdTpZvOEW",
        "colab_type": "text"
      },
      "source": [
        "# <font color=\"blue\">Test Image 1: Image of a Book</font>\n"
      ]
    },
    {
      "cell_type": "code",
      "metadata": {
        "id": "m5YjoL6qvOWh",
        "colab_type": "code",
        "colab": {}
      },
      "source": [
        "!wget https://www.dropbox.com/s/uwrdek4jjac4ysz/book2.jpg?dl=1 -O book2.jpg --quiet"
      ],
      "execution_count": 0,
      "outputs": []
    },
    {
      "cell_type": "markdown",
      "metadata": {
        "id": "6kCyyYfWvllI",
        "colab_type": "text"
      },
      "source": [
        "### <font color=\"green\">Downloaded Image</font>\n",
        "\n",
        "<img src=\"https://www.dropbox.com/s/uwrdek4jjac4ysz/book2.jpg?dl=1\" width=500>"
      ]
    },
    {
      "cell_type": "markdown",
      "metadata": {
        "id": "LZ1HQqsbBK8M",
        "colab_type": "text"
      },
      "source": [
        "### <font color=\"green\">Output</font>"
      ]
    },
    {
      "cell_type": "code",
      "metadata": {
        "id": "-r8x0wZYwgws",
        "colab_type": "code",
        "outputId": "8b11d5a5-5f11-4e39-cdbe-085d18c5dd0e",
        "colab": {
          "base_uri": "https://localhost:8080/",
          "height": 34
        }
      },
      "source": [
        "book2_text = pytesseract.image_to_string('book2.jpg')\n",
        "print(book2_text)"
      ],
      "execution_count": 0,
      "outputs": [
        {
          "output_type": "stream",
          "text": [
            "The Impact of the Highly Improbable\n"
          ],
          "name": "stdout"
        }
      ]
    },
    {
      "cell_type": "markdown",
      "metadata": {
        "id": "bgFJkHHsZPVp",
        "colab_type": "text"
      },
      "source": [
        "### <font color=\"green\">Observation </font>\n",
        "We saw this example in the last notebook. The major reason is the relatively cluttered background and low contrast of the white text on orange background. Another issue with these kind of images is the variability of text size. **\"Black\"** is written in extra-large size whereas **\"The impact of\"** is normal."
      ]
    },
    {
      "cell_type": "markdown",
      "metadata": {
        "id": "B-zgzR5sxjym",
        "colab_type": "text"
      },
      "source": [
        "# <font color=\"blue\">Test Image 2: Driving License </font>"
      ]
    },
    {
      "cell_type": "code",
      "metadata": {
        "id": "NlIlSYkVLAQL",
        "colab_type": "code",
        "colab": {}
      },
      "source": [
        "!wget https://www.dropbox.com/s/rdaha84n8jo3bmw/dl.jpg?dl=0 -O dl.jpg --quiet"
      ],
      "execution_count": 0,
      "outputs": []
    },
    {
      "cell_type": "markdown",
      "metadata": {
        "id": "aPrrWdGYBh8n",
        "colab_type": "text"
      },
      "source": [
        "### <font color=\"green\">Downloaded Image</font>\n",
        "![](https://www.dropbox.com/s/rdaha84n8jo3bmw/dl.jpg?dl=1)"
      ]
    },
    {
      "cell_type": "markdown",
      "metadata": {
        "id": "lB1AKcTrBPJW",
        "colab_type": "text"
      },
      "source": [
        "### <font color=\"green\">Output</font>"
      ]
    },
    {
      "cell_type": "code",
      "metadata": {
        "id": "UmQS6qAGK_cU",
        "colab_type": "code",
        "outputId": "a344ca70-1bd9-4a52-cbd3-74f82ed1437e",
        "colab": {
          "base_uri": "https://localhost:8080/",
          "height": 696
        }
      },
      "source": [
        "dl_text = pytesseract.image_to_string('dl.jpg')\n",
        "print(dl_text)\n",
        "Image(\"dl.jpg\")"
      ],
      "execution_count": 0,
      "outputs": [
        {
          "output_type": "stream",
          "text": [
            "DRIVER LICENSE\n",
            "\n",
            "= a\n",
            "\n",
            "123 486 789 Sein States,\n",
            "tate\n",
            "\n",
            "MURPHY,\n",
            "\n",
            "BRENNA ANNA C\n",
            "bomsun scm LO wl\n",
            "CUO ULeTe Ne F\n",
            "seraaiin NoNE™ ms |\n",
            "08/20/2020 BeELZ™ BRO q\n",
            "\n",
            "  \n",
            "\n",
            "IVANYWHERE STREET\n",
            "ITY, DL\n",
            "\n",
            "500 asosse7eo 67890-1071 ah NA Yuare\n"
          ],
          "name": "stdout"
        },
        {
          "output_type": "execute_result",
          "data": {
            "image/jpeg": "[encoded data removed]",
            "text/plain": [
              "<IPython.core.display.Image object>"
            ]
          },
          "metadata": {
            "tags": []
          },
          "execution_count": 9
        }
      ]
    },
    {
      "cell_type": "markdown",
      "metadata": {
        "id": "LXrwIR4poQlp",
        "colab_type": "text"
      },
      "source": [
        "### <font color=\"green\">Observation </font>\n",
        "- It is unable to detect small text( Date of Expiry, Address, etc.)\n",
        "- Same issue with cluttered background ( New York on Top Left )"
      ]
    },
    {
      "cell_type": "markdown",
      "metadata": {
        "id": "RB_VxB28M3N0",
        "colab_type": "text"
      },
      "source": [
        "# <font color=\"blue\">Test Image 3: License Plate</font>"
      ]
    },
    {
      "cell_type": "code",
      "metadata": {
        "id": "Vhv0FqVK2yfj",
        "colab_type": "code",
        "colab": {}
      },
      "source": [
        "!wget \"https://www.dropbox.com/s/xz24vxrp4uvvnri/license_plate.jpg?dl=0\" -O lp1.jpg --quiet"
      ],
      "execution_count": 0,
      "outputs": []
    },
    {
      "cell_type": "markdown",
      "metadata": {
        "id": "7mw122YmMmjA",
        "colab_type": "text"
      },
      "source": [
        "### <font color=\"green\">Downloaded Image</font>\n",
        "<img src=\"https://www.dropbox.com/s/xz24vxrp4uvvnri/license_plate.jpg?dl=1\" width=500>"
      ]
    },
    {
      "cell_type": "markdown",
      "metadata": {
        "id": "Pwhw8TAjEQqJ",
        "colab_type": "text"
      },
      "source": [
        "### <font color=\"green\">Output</font>"
      ]
    },
    {
      "cell_type": "code",
      "metadata": {
        "id": "f1pbRHpQ2-6H",
        "colab_type": "code",
        "outputId": "65060329-700e-4ba3-d87b-e6477616920e",
        "colab": {
          "base_uri": "https://localhost:8080/",
          "height": 34
        }
      },
      "source": [
        "lp_text = pytesseract.image_to_string('lp1.jpg')\n",
        "print(lp_text)"
      ],
      "execution_count": 0,
      "outputs": [
        {
          "output_type": "stream",
          "text": [
            "Tiles)\n"
          ],
          "name": "stdout"
        }
      ]
    },
    {
      "cell_type": "markdown",
      "metadata": {
        "id": "PZR6S45AM8dV",
        "colab_type": "text"
      },
      "source": [
        "### <font color=\"green\">Observation </font>\n",
        "Even though the text is very clear to us, Tesseract finds it difficult to recognize. The major issue is with contrast. "
      ]
    },
    {
      "cell_type": "markdown",
      "metadata": {
        "id": "PiRFxoD_Dy11",
        "colab_type": "text"
      },
      "source": [
        "# <font color=\"blue\">Street Signs</font>\n",
        "Street signs are one of the most difficult ones to recognize. Let us see some examples."
      ]
    },
    {
      "cell_type": "markdown",
      "metadata": {
        "id": "EJ1HqPpcNLzF",
        "colab_type": "text"
      },
      "source": [
        "# <font color=\"blue\">Test Image 4</font>"
      ]
    },
    {
      "cell_type": "code",
      "metadata": {
        "id": "pfkn0xGU8NhT",
        "colab_type": "code",
        "colab": {}
      },
      "source": [
        "!wget https://www.dropbox.com/s/uwlnxiihqgni57o/streetsign1.jpg?dl=0 -O streetsign1.jpg --quiet"
      ],
      "execution_count": 0,
      "outputs": []
    },
    {
      "cell_type": "markdown",
      "metadata": {
        "id": "uL42MgotyLt6",
        "colab_type": "text"
      },
      "source": [
        "### <font color=\"green\">Downloaded Image</font>\n",
        "<img src=\"https://www.dropbox.com/s/uwlnxiihqgni57o/streetsign1.jpg?dl=1\" width=500>"
      ]
    },
    {
      "cell_type": "markdown",
      "metadata": {
        "id": "acC4MknhEJvG",
        "colab_type": "text"
      },
      "source": [
        "### <font color=\"green\">Output</font>"
      ]
    },
    {
      "cell_type": "code",
      "metadata": {
        "id": "GB9dyjPO8T6N",
        "colab_type": "code",
        "outputId": "8148c531-1d27-4cbd-e7d2-4868410fbb4c",
        "colab": {
          "base_uri": "https://localhost:8080/",
          "height": 34
        }
      },
      "source": [
        "ss1_text = pytesseract.image_to_string('streetsign1.jpg')\n",
        "print(ss1_text)"
      ],
      "execution_count": 0,
      "outputs": [
        {
          "output_type": "stream",
          "text": [
            "\n"
          ],
          "name": "stdout"
        }
      ]
    },
    {
      "cell_type": "markdown",
      "metadata": {
        "id": "YXhXjB4cNQs8",
        "colab_type": "text"
      },
      "source": [
        "# <font color=\"blue\">Test Image 5</font>"
      ]
    },
    {
      "cell_type": "code",
      "metadata": {
        "id": "jCEOYVvT8UOS",
        "colab_type": "code",
        "colab": {}
      },
      "source": [
        "!wget https://www.dropbox.com/s/dbkag5gsicxqoqg/streetsign2.jpg?dl=0 -O streetsign2.jpg --quiet"
      ],
      "execution_count": 0,
      "outputs": []
    },
    {
      "cell_type": "markdown",
      "metadata": {
        "id": "C1GQB-KhMQn1",
        "colab_type": "text"
      },
      "source": [
        "### <font color=\"green\">Downloaded Image</font>\n",
        "<img src=\"https://www.dropbox.com/s/dbkag5gsicxqoqg/streetsign2.jpg?dl=1\" width=500>"
      ]
    },
    {
      "cell_type": "markdown",
      "metadata": {
        "id": "HnrMq987ENh6",
        "colab_type": "text"
      },
      "source": [
        "### <font color=\"green\">Output</font>"
      ]
    },
    {
      "cell_type": "code",
      "metadata": {
        "id": "ymF4fo3u9wJy",
        "colab_type": "code",
        "outputId": "3a5db547-fd01-4bce-a31f-e7e2e6e56b64",
        "colab": {
          "base_uri": "https://localhost:8080/",
          "height": 34
        }
      },
      "source": [
        "ss2_text = pytesseract.image_to_string('streetsign2.jpg')\n",
        "print(ss2_text)"
      ],
      "execution_count": 0,
      "outputs": [
        {
          "output_type": "stream",
          "text": [
            "\n"
          ],
          "name": "stdout"
        }
      ]
    },
    {
      "cell_type": "markdown",
      "metadata": {
        "id": "E3nyo3JMNVpt",
        "colab_type": "text"
      },
      "source": [
        "# <font color=\"blue\">Test Image 6</font>"
      ]
    },
    {
      "cell_type": "code",
      "metadata": {
        "id": "U7AF7mi79pDJ",
        "colab_type": "code",
        "colab": {}
      },
      "source": [
        "!wget https://www.dropbox.com/s/cgni28zl1k9sesk/streetsign3.jpg?dl=0 -O streetsign3.jpg --quiet"
      ],
      "execution_count": 0,
      "outputs": []
    },
    {
      "cell_type": "markdown",
      "metadata": {
        "id": "GdeRNQmFMZsb",
        "colab_type": "text"
      },
      "source": [
        "### <font color=\"green\">Downloaded Image</font>\n",
        "<img src=\"https://www.dropbox.com/s/cgni28zl1k9sesk/streetsign3.jpg?dl=1\" width=500>"
      ]
    },
    {
      "cell_type": "markdown",
      "metadata": {
        "id": "EzJlqmjWEO6r",
        "colab_type": "text"
      },
      "source": [
        "### <font color=\"green\">Output</font>"
      ]
    },
    {
      "cell_type": "code",
      "metadata": {
        "id": "oG_qfwVp_Kmo",
        "colab_type": "code",
        "outputId": "4b3fd507-5e67-4503-f421-be236305d5c5",
        "colab": {
          "base_uri": "https://localhost:8080/",
          "height": 34
        }
      },
      "source": [
        "ss3_text = pytesseract.image_to_string('streetsign3.jpg')\n",
        "print(ss3_text)"
      ],
      "execution_count": 0,
      "outputs": [
        {
          "output_type": "stream",
          "text": [
            "\n"
          ],
          "name": "stdout"
        }
      ]
    },
    {
      "cell_type": "markdown",
      "metadata": {
        "id": "3M9_MokcNX2l",
        "colab_type": "text"
      },
      "source": [
        "### <font color=\"green\">Observation</font>\n",
        "In all the above 3 images, there are multiple issues:\n",
        "- text is not aligned. It is either rotated within the plane or into the plane.\n",
        "- Large variation in Text size\n",
        "- Background clutter"
      ]
    },
    {
      "cell_type": "markdown",
      "metadata": {
        "id": "kAeu6BitNsox",
        "colab_type": "text"
      },
      "source": [
        "Next, We will discuss how to overcome some of the limitations of Tesseract by using different techniques."
      ]
    }
  ]
}