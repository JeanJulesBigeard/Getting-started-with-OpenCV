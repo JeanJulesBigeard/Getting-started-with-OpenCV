{
  "nbformat": 4,
  "nbformat_minor": 0,
  "metadata": {
    "colab": {
      "name": "1_Intro_to_ALPR.ipynb",
      "provenance": [],
      "collapsed_sections": [],
      "include_colab_link": true
    },
    "kernelspec": {
      "name": "python3",
      "display_name": "Python 3"
    }
  },
  "cells": [
    {
      "cell_type": "markdown",
      "metadata": {
        "id": "view-in-github",
        "colab_type": "text"
      },
      "source": [
        "<a href=\"https://colab.research.google.com/github/JeanJulesBigeard/Getting-started-with-OpenCV/blob/master/Automatic%20License%20Plate%20Recognition/1_Intro_to_ALPR.ipynb\" target=\"_parent\"><img src=\"https://colab.research.google.com/assets/colab-badge.svg\" alt=\"Open In Colab\"/></a>"
      ]
    },
    {
      "cell_type": "markdown",
      "metadata": {
        "id": "LIW85ldFnJUM",
        "colab_type": "text"
      },
      "source": [
        "# Automatic License Plate Recognition\n",
        " "
      ]
    },
    {
      "cell_type": "markdown",
      "metadata": {
        "id": "fPbhkGFF0qIl",
        "colab_type": "text"
      },
      "source": [
        "Automatic License Plate Recognition (ALPR) is the task of finding and recognizing license plates in images. Several traffic-related applications, such as detection of stolen vehicles, toll control and parking lot access validation involve vehicle identification, which is performed by ALPR systems. It is a challenging problem due to its potential applicability in the diverse geographical conditions with varying license plate parameters.\n",
        "\n",
        "The ALPR task can be broken into three subtasks that form a sequential pipeline:\n",
        " 1. Vehicle Detection\n",
        " 1. License Plate (LP) Detection\n",
        " 1. Optical Character Recognition (OCR) \n",
        "\n",
        "![Three subtasks of ALPR](https://www.dropbox.com/s/pavo2y6x79lqzt9/ALPD_3steps.png?dl=1)\n",
        "\n",
        "Many traditional ALPR systems or related subtasks uses image binarization or gray-scale analysis to find candidate proposals (e.g. LPs and characters), followed by handcrafted feature extraction methods and classical machine learning classifier.\n",
        "\n",
        "With the rise of Deep Learning (DL),\n",
        "the state-of-the-art started moving to another direction, and nowadays many\n",
        "works employ CNNs due to its high accuracy for generic object detection and recognition.\n",
        "\n",
        "## 1. Vehicle Detection\n",
        "\n",
        "Since vehicles are one of the underlying objects present in many classical detection and recognition datasets, such as PASCAL-VOC, ImageNet, and\n",
        "COCO, we will use pretrained model to perform vehicle detection considering a few criteria. \n",
        "\n",
        "On one hand, a high recall rate is desired, since any miss detected vehicle having a visible LP leads directly to an overall LP miss detection. On the other hand, high precision is also desirable to keep running times low, as each falsely detected vehicle must be verified by LP detector. \n",
        "\n",
        "Based on these considerations, we will use the YOLOv2 network due to its fast execution (around 70 FPS) and good precision and recall compromise (76.8% mAP over the PASCAL-VOC dataset).\n",
        "\n",
        "We will not perform any change or refinement to YOLOv2, just we will use\n",
        "the network as a black box, merging the outputs related to vehicles (i.e. cars and buses), and ignoring the other classes.\n",
        "\n",
        "## 2. License Plate (LP) Detection\n",
        "We will discuss two different network to search for LPs within each detected vehicle region.\n",
        "1. YOLOv3 Network trained for LP detection (YOLO-Net)\n",
        "1. Warped Planar Object Detection Network (WPOD-Net) proposed in **License Plate Detection and Recognition in Unconstrained Scenarios** by S. M. Silva and C. R. Jung [[paper](http://openaccess.thecvf.com/content_ECCV_2018/papers/Sergio_Silva_License_Plate_Detection_ECCV_2018_paper.pdf)][[webpage](http://www.inf.ufrgs.br/~smsilva/alpr-unconstrained/)][[github](https://github.com/sergiomsilva/alpr-unconstrained)]\n",
        "\n",
        "## 3. Optical Character Recognition (OCR)\n",
        "The OCR is combination of two subtaks a) character segmentation and b) character recognition. To perform character segmentation and recognition over the detected LP, we will discuss two OCR methods:\n",
        "1. OCR using Tesseract\n",
        "1. OCR using Modified YOLO network, with the same architecture presented in **Real-Time Brazilian License Plate Detection and Recognition Using Deep Convolutional Neural Networks** by S. M. Silva and C. R. Jung [[paper](http://sibgrapi.sid.inpe.br/archive.cgi/sid.inpe.br/sibgrapi/2017/08.18.12.21)][[webpage](http://www.inf.ufrgs.br/~smsilva/real-time-brazilian-alpr/)]\n",
        "\n",
        "The combination two LP detection methods and two OCR methods gives four different ALPR sytem where YOLOv2 based vehicle detection is followed by\n",
        "1. LP detection using YOLO-Net and Tesseract based OCR\n",
        "1. LP detection using YOLO-Net and Modified YOLO based OCR\n",
        "1. LP detection using WPOD-Net and Tesseract based OCR\n",
        "1. LP detection using WPOD-Net and Modified YOLO based OCR\n",
        "\n",
        "Next notebook, we will trained YOLOv3 network for LP detection using DarkNet framework."
      ]
    }
  ]
}