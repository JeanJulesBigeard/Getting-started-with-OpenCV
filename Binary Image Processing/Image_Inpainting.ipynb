{
 "cells": [
  {
   "cell_type": "markdown",
   "metadata": {},
   "source": [
    "# Image Inpainting\n",
    "\n",
    "In this module we will describe a class of *region filling algorithms* called **image inpainting**.\n",
    "\n",
    "Imagine finding an old family photograph. You scan it and it looks great except for a few scratches.\n",
    "\n",
    "Of course you can load the photo in Photoshop and fix the scratches. But is that really cool? Hell no!\n",
    "\n",
    "You are a super cool engineer! You have a reputation to live up to. You open your favorite editor and write 10 lines of code to solve the problem using an inpainting algorithm in OpenCV. If your friends do not look sufficiently impressed, you can tell them the method is based on the Navier Stokes equation they might have encountered in fluid dynamics!\n",
    "\n",
    "But to be that cool, you need to read this module first."
   ]
  },
  {
   "cell_type": "markdown",
   "metadata": {},
   "source": [
    "## What is Image Inpainting?\n",
    "\n",
    "Image inpainting is a class of algorithms in computer vision where the objective is to fill regions inside an image or a video.\n",
    "\n",
    "The region is identified using a binary mask, and the filling is usually done by propagating information from the boundary of the region that needs to be filled.\n",
    "\n",
    "The most common application of image inpainting is restoration of old scanned photos. It is also used for removing small unwanted objects in an image."
   ]
  },
  {
   "cell_type": "markdown",
   "metadata": {},
   "source": [
    "# Inpainting Algorithms\n",
    "In this section, we will briefly discuss two inpainting algorithms implemented in OpenCV."
   ]
  },
  {
   "cell_type": "markdown",
   "metadata": {},
   "source": [
    "## INPAINT_NS : Navier-Stokes based Inpainting\n",
    "    \n",
    "This method was published in 2001 in a paper titled [\"Navier-Stokes, Fluid Dynamics, and Image and Video Inpainting\"](http://www.math.ucla.edu/~bertozzi/papers/cvpr01.pdf)\n",
    "\n",
    "Sometimes I feel like the field of Computer Vision is a field of immigrants from other fields like electrical engineering, computer science, physics, and mathematics.\n",
    "\n",
    "They bring their ideas to the field and solve the same problem in very interesting and unique ways. An electrical engineer may see an image as a 2D signal and apply the theories of signal processing to solve computer vision problems. On the other hand, a mathematician may see an image as a connected graph and solve computer vision problems using graph theory.\n",
    "\n",
    "So it isn’t surprising that theories developed for fluid dynamics also make their way into computer vision.\n",
    "\n",
    "In the image below, our objective is to fill the dark region and obtain an image that looks like the one on the right."
   ]
  },
  {
   "cell_type": "markdown",
   "metadata": {},
   "source": [
    "![Image Inpainting Example](https://www.learnopencv.com/wp-content/uploads/2019/04/image-inpainting-example.jpg)"
   ]
  },
  {
   "cell_type": "markdown",
   "metadata": {},
   "source": [
    "How do we fill this black region? One constraint we would like is the edge entering point A should continue to the edge leaving point B. The other constraint we may want is that the region on the right of the curve joining A and B should be white, and the region on the left should be blue.\n",
    "\n",
    "The above two constraints essentially state\n",
    "\n",
    "1. Preserve gradients (i.e. edge like features)\n",
    "2. Continue to propagate color information in smooth regions\n",
    "\n",
    "The authors set up a partial differential equation (PDE) to update image intensities inside the region with the above constraints.\n",
    "\n",
    "The image smoothness information is estimated by the image Laplacian and it is propagated along the isophotes (contours of equal intensities). The isophotes are estimated by the image gradient rotated by 90 degrees.\n",
    "\n",
    "The authors show that these equations are closely related in form to the Navier-Stokes equations for 2D incompressible fluids.\n",
    "\n",
    "The benefit of reducing the problem to one of fluid dynamics is that we benefit from well developed theoretical analysis and numerical tools."
   ]
  },
  {
   "cell_type": "markdown",
   "metadata": {},
   "source": [
    "## INPAINT_TELEA : Fast Marching Method based\n",
    "\n",
    "This implementation is based on a paper titled [\"An Image Inpainting Technique Based on the Fast Marching Method\"](https://pdfs.semanticscholar.org/622d/5f432e515da69f8f220fb92b17c8426d0427.pdf) by Alexandru Telea.\n",
    "\n",
    "This implementation solves the same constraints using a different technique. Instead of using the image Laplacian as the estimator of smoothness, the author uses a weighted average over a known image neighborhood of the pixel to inpaint. The known neighborhood pixels and gradients are used to estimate the color of the pixel to be inpainted.\n",
    "\n",
    "Once a pixel is inpainted, the boundary needs to updated. The author treats the missing region of the image as [level sets](https://en.wikipedia.org/wiki/Level_set) and uses the [fast marching method](https://en.wikipedia.org/wiki/Fast_marching_method) to update the boundary."
   ]
  },
  {
   "cell_type": "markdown",
   "metadata": {},
   "source": [
    "### Pros and Cons\n",
    "\n",
    "As per the theory and the papers, Navier-Stokes based inpainting is supposed to be slower and has a tendency to produce results that are blurrier than the Fast Marching based method.\n",
    "\n",
    "In practice, we did not find that to be the case. INPAINT_NS produced better results in our tests and the speed was also marginally better than INPAINT_TELEA."
   ]
  },
  {
   "cell_type": "markdown",
   "metadata": {},
   "source": [
    "## >Inpainting Code in Python\n",
    "\n",
    "### >Function Syntax\n",
    "    \n",
    "In OpenCV inpainting is implemented using the function `inpaint`.\n",
    "\n",
    "```python\n",
    "dst = cv2.inpaint(\n",
    "             src, \n",
    "             inpaintMask, \n",
    "             inpaintRadius, \n",
    "             flags)\n",
    "```\n",
    "\n",
    "Where,\n",
    "\n",
    "- **`src`** = Source image\n",
    "- **`inpaintMask`** = A binary mask indicating pixels to be inpainted.\n",
    "- **`dst`** = Destination image\n",
    "- **`inpaintRadius`** = Neighborhood around a pixel to inpaint. Typically, if the regions to be inpainted are thin, smaller values produce better results (less blurry).\n",
    "- **`flags`** : `INPAINT_NS` (Navier-Stokes based method) or `INPAINT_TELEA` (Fast marching based method)"
   ]
  },
  {
   "cell_type": "code",
   "execution_count": null,
   "metadata": {},
   "outputs": [],
   "source": [
    "import numpy as np\n",
    "import cv2 as cv\n"
   ]
  },
  {
   "cell_type": "code",
   "execution_count": 2,
   "metadata": {},
   "outputs": [],
   "source": [
    "# OpenCV Utility Class for Mouse Handling\n",
    "class Sketcher:\n",
    "    def __init__(self, windowname, dests, colors_func):\n",
    "        self.prev_pt = None\n",
    "        self.windowname = windowname\n",
    "        self.dests = dests\n",
    "        self.colors_func = colors_func\n",
    "        self.dirty = False\n",
    "        self.show()\n",
    "        cv.setMouseCallback(self.windowname, self.on_mouse)\n",
    "\n",
    "    def show(self):\n",
    "        cv.imshow(self.windowname, self.dests[0])\n",
    "        cv.imshow(self.windowname + \": mask\", self.dests[1])\n",
    "\n",
    "    # onMouse function for Mouse Handling\n",
    "    def on_mouse(self, event, x, y, flags, param):\n",
    "        pt = (x, y)\n",
    "        if event == cv.EVENT_LBUTTONDOWN:\n",
    "            self.prev_pt = pt\n",
    "        elif event == cv.EVENT_LBUTTONUP:\n",
    "            self.prev_pt = None\n",
    "\n",
    "        if self.prev_pt and flags & cv.EVENT_FLAG_LBUTTON:\n",
    "            for dst, color in zip(self.dests, self.colors_func()):\n",
    "                cv.line(dst, self.prev_pt, pt, color, 5)\n",
    "            self.dirty = True\n",
    "            self.prev_pt = pt\n",
    "            self.show()"
   ]
  },
  {
   "cell_type": "code",
   "execution_count": 3,
   "metadata": {},
   "outputs": [],
   "source": [
    "# Read image in color mode\n",
    "filename = \"/home/jean/Pictures/IMG_20190609_202412.jpg\"\n",
    "img = cv.imread(filename, cv.IMREAD_COLOR)\n",
    "\n",
    "# If image is not read properly, return error\n",
    "if img is None:\n",
    "    print('Failed to load image file: {}'.format(filename))"
   ]
  },
  {
   "cell_type": "code",
   "execution_count": 4,
   "metadata": {},
   "outputs": [],
   "source": [
    "# Create a copy of original image\n",
    "img_mask = img.copy()\n",
    "# Create a black copy of original image\n",
    "# Acts as a mask\n",
    "inpaintMask = np.zeros(img.shape[:2], np.uint8)\n",
    "# Create sketch using OpenCV Utility Class: Sketcher\n",
    "sketch = Sketcher('image', [img_mask, inpaintMask], lambda : ((255, 255, 255), 255))"
   ]
  },
  {
   "cell_type": "code",
   "execution_count": null,
   "metadata": {},
   "outputs": [],
   "source": [
    "while True:\n",
    "    ch = cv.waitKey()\n",
    "    if ch == 27:\n",
    "        break\n",
    "    if ch == ord('t'):\n",
    "        # Use Algorithm proposed by Alexendra Telea: Fast Marching Method (2004)\n",
    "        # Reference: https://pdfs.semanticscholar.org/622d/5f432e515da69f8f220fb92b17c8426d0427.pdf\n",
    "        res = cv.inpaint(src=img_mask, inpaintMask=inpaintMask, inpaintRadius=3, flags=cv.INPAINT_TELEA)\n",
    "        cv.imshow('Inpaint Output using FMM', res)\n",
    "    if ch == ord('n'):\n",
    "        # Use Algorithm proposed by Bertalmio, Marcelo, Andrea L. Bertozzi, and Guillermo Sapiro: Navier-Stokes, Fluid Dynamics, and Image and Video Inpainting (2001)\n",
    "        res = cv.inpaint(src=img_mask, inpaintMask=inpaintMask, inpaintRadius=3, flags=cv.INPAINT_NS)\n",
    "        cv.imshow('Inpaint Output using NS Technique', res)\n",
    "    if ch == ord('r'):\n",
    "        img_mask[:] = img\n",
    "        inpaintMask[:] = 0\n",
    "        sketch.show()"
   ]
  },
  {
   "cell_type": "code",
   "execution_count": null,
   "metadata": {},
   "outputs": [],
   "source": [
    "cv.destroyAllWindows()"
   ]
  },
  {
   "cell_type": "code",
   "execution_count": null,
   "metadata": {},
   "outputs": [],
   "source": []
  }
 ],
 "metadata": {
  "kernelspec": {
   "display_name": "Python 3",
   "language": "python",
   "name": "python3"
  },
  "language_info": {
   "codemirror_mode": {
    "name": "ipython",
    "version": 3
   },
   "file_extension": ".py",
   "mimetype": "text/x-python",
   "name": "python",
   "nbconvert_exporter": "python",
   "pygments_lexer": "ipython3",
   "version": "3.7.3"
  }
 },
 "nbformat": 4,
 "nbformat_minor": 2
}
