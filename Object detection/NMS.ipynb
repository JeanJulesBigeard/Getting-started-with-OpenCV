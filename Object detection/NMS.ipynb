{
 "cells": [
  {
   "cell_type": "markdown",
   "metadata": {
    "lines_to_next_cell": 0
   },
   "source": [
    "# Non-maximum Suppression (NMS)"
   ]
  },
  {
   "cell_type": "markdown",
   "metadata": {
    "lines_to_next_cell": 0
   },
   "source": [
    "In many cases, detection algorithms do not output a single detection per every GT object.\n",
    "Instead, they create a cloud of detections that cover the whole object or some parts of it.\n",
    "For example, in Sliding Window approach, the classifier can recognise the object even if the\n",
    "window only partially covers the object."
   ]
  },
  {
   "cell_type": "markdown",
   "metadata": {
    "lines_to_next_cell": 0
   },
   "source": [
    "Just like in classification, in detection the boxes have corresponding confidence scores.\n",
    "Ideally the central detection here will have the highest score, and the further are the other boxes\n",
    "from the real object location, the less will be their confidence score.\n"
   ]
  },
  {
   "cell_type": "markdown",
   "metadata": {
    "lines_to_next_cell": 0
   },
   "source": [
    "To compress these boxes into a single good detection, we need to apply Non-Maximum suppression algorithm, or NMS.\n",
    "Imagine we have a confident detection that best covers the object, and less confident ones that highly overlap\n",
    "this first one. In this case, NMS will keep the most confident detection, and suppress the less confident ones.\n",
    "It's important that these less confident ones have a high overlap with the confident one - otherwise, NMS won't\n",
    "suppress them, and they will become false positives.\n"
   ]
  },
  {
   "cell_type": "markdown",
   "metadata": {
    "lines_to_next_cell": 0
   },
   "source": [
    "NMS or some modification of it is used as a post-processing step in most modern deep learning approaches.\n"
   ]
  },
  {
   "cell_type": "markdown",
   "metadata": {
    "lines_to_next_cell": 0
   },
   "source": [
    "## 1. NMS pipeline"
   ]
  },
  {
   "cell_type": "markdown",
   "metadata": {
    "lines_to_next_cell": 0
   },
   "source": [
    "The algorithm inputs a list of the detected ($dbox\\_list$) boxes with scores ($dbox\\_scores\\_list$).\n",
    "We also need to select a suppression threshold ($threshold$).\n"
   ]
  },
  {
   "cell_type": "markdown",
   "metadata": {
    "lines_to_next_cell": 0
   },
   "source": [
    "We already covered Intersection over Union metric before.\n",
    "For two boxes, it measures the ratio of the area of their intersection to the area of their union.\n",
    "Here we will use it to select the boxes to suppress.\n",
    "\n",
    "<br>Algorithm itself is the following:</br>\n",
    "1. Sort the detected boxes by confidence score.\n",
    "2. Select the detected box with the current maximum score ($max\\_score\\_dbox$).\n",
    "3. Remove this box from the $dbox\\_list$.\n",
    "4. Suppress other detected boxes that highly overlap this box. By high\n",
    "overlap we mean that the Intersection over Union value is higher than the\n",
    "suppression threshold value.\n",
    "5. Repeat steps `2-5` for other boxes left in $dbox\\_list$.\n"
   ]
  },
  {
   "cell_type": "markdown",
   "metadata": {
    "lines_to_next_cell": 0
   },
   "source": [
    "## 2. Soft-NMS"
   ]
  },
  {
   "cell_type": "markdown",
   "metadata": {},
   "source": [
    "NMS is a pretty straightforward algorithm. There are several tricks on top of\n",
    "it that improve its quality - and one of them is Soft-NMS.\n",
    "\n",
    "The original Soft-NMS article [Improving Object Detection With One Line of Code](https://arxiv.org/pdf/1704.04503.pdf) shows that NMS has some drawbacks. One of them is that two GT boxes overlap, NMS can remove the less confident one. And even though the algorithm correctly detected both object, we'll ignore one of them, which will become a false negative. The picture below illustrates two bounding boxes of horses with high overlap and different scores: red is 0.95 and green is 0.80.\n",
    "\n",
    "---\n",
    "\n",
    "<img src='https://www.learnopencv.com/wp-content/uploads/2020/03/c3-w8-bboxes_overlap.png' align='middle' width=700>\n",
    "\n",
    "---\n",
    "\n",
    "NMS will remove the green box and its confidence score will be set to 0. Soft-NMS algorithm slightly modifies NMS steps introducing new re-scoring method and updated suppression policy. Let's take a look at the steps of both algorithm versions:\n",
    "\n",
    "---\n",
    "\n",
    "<img src='https://www.learnopencv.com/wp-content/uploads/2020/03/c3-w8-nms_algorithms.jpg' align='middle' width=400>\n",
    "\n",
    "---\n",
    "\n",
    "In the red box, you can see the original NMS steps, and in the green box - Soft NMS. Now let's pay attention to the score recalculation. In NMS, it can be written as:\n",
    "\n",
    "$$\n",
    "s_i = \\left\\{\n",
    "\\begin{array}{ll}\n",
    "0{, } & iou(\\mathcal{M},b_i) \\geqslant N_t\\textrm{,}\\\\\n",
    "s_i{, } & iou(\\mathcal{M},b_i) < N_t\\textrm{.}\\\\\n",
    "\\end{array} \\right.\n",
    "$$\n",
    "It turns out that box exclusion rule is quite hard: if IoU is greater than the predefined threshold value, the box will be removed, and its confidence score will be set to zero. However, it could be softened with only decreasing the score of the box with high $\\mathcal{M}$ (detected box with a maximum score) overlap:\n",
    "\n",
    "\n",
    "$$\n",
    "s_i = \\left\\{\n",
    "\\begin{array}{ll}\n",
    "s_i(1 - iou(\\mathcal{M},b_i)){, } & iou(\\mathcal{M},b_i) \\geqslant N_t\\textrm{,}\\\\\n",
    "s_i{, } & iou(\\mathcal{M},b_i) < N_t\\textrm{.}\\\\\n",
    "\\end{array} \\right.\n",
    "$$\n",
    "\n",
    "The described rescoring function is a **linear** $\\mathcal{M}$ overlap function. The bounding boxes that are distant from $\\mathcal{M}$ won't be affected, whereas the closest boxes, on the contrary, will be highly affected. The decrease of the scores should be proportional to the overlap level. When the box overlap with $\\mathcal{M}$ is close to one, it should be \"punished\". There is a **Gaussian** \"punishment\" function, which involves these terms:\n",
    "\n",
    "\n",
    "$$\n",
    "s_i = s_ie^{-\\frac{iou(\\mathcal{M},b_i)^{2}}{\\sigma}}, \\forall b_i \\notin \\mathcal{D}\n",
    "$$\n",
    "\n",
    "where $\\mathcal{D}$ - final detected boxes."
   ]
  },
  {
   "cell_type": "markdown",
   "metadata": {
    "lines_to_next_cell": 2
   },
   "source": [
    "### Soft-NMS Implementation\n",
    "\n",
    "**Let's implement Soft-NMS algorithm in accordance with the steps described above and [Soft-NMS article](https://arxiv.org/pdf/1704.04503.pdf):**\n",
    "\n",
    "- rescoring using linear or gaussion method\n",
    "\n",
    "- speed up the computations using an appropriate PyTorch CUDA API"
   ]
  },
  {
   "cell_type": "code",
   "execution_count": 1,
   "metadata": {},
   "outputs": [],
   "source": [
    "import torch"
   ]
  },
  {
   "cell_type": "code",
   "execution_count": 2,
   "metadata": {},
   "outputs": [],
   "source": [
    "def soft_nms_rescoring(dbox_data, sigma=0.5, iou_threshold=0.3, score_threshold=0.001, rescoring=1):\n",
    "    \"\"\"\n",
    "    Soft-NMS Pytorch implementation\n",
    "\n",
    "    Parameters:\n",
    "        dbox_data: coordinates of the detected boxes and their scores [x1, y1, x2, y2, confidence_score_0]\n",
    "        sigma: parameter of the Gaussian function\n",
    "        iou_threshold: Intersection over Union threshold (for the linear method)\n",
    "        score_threshold: confidence score threshold\n",
    "        rescoring: an integer value 0 or 1, where 1 corresponds to Gaussian rescoring method and 0 \n",
    "                   to the linear method\n",
    "\n",
    "    Return value:\n",
    "        an array of bounding boxes with corresponding recalculated scores (in accordance with the applied method)\n",
    "    \"\"\"\n",
    "\n",
    "    device = dbox_data.device\n",
    "\n",
    "    # get bounding box coordinates\n",
    "    x1_initial = dbox_data[:, 0]\n",
    "    y1_initial = dbox_data[:, 1]\n",
    "    x2_initial = dbox_data[:, 2]\n",
    "    y2_initial = dbox_data[:, 3]\n",
    "\n",
    "    # calculating an area of detection boxes\n",
    "    areas = (x2_initial - x1_initial + 1) * (y2_initial - y1_initial + 1)\n",
    "\n",
    "    # concatenate area of boxes with dbox_data tensor\n",
    "    dbox_data = torch.cat((dbox_data, areas[:, None]), dim=1)\n",
    "\n",
    "    final_dbox = []\n",
    "\n",
    "    while dbox_data.shape[0] > 0:\n",
    "        # position of detection box with maximum confidence score\n",
    "        max_index = torch.argmax(dbox_data[:, 4], axis=0)\n",
    "\n",
    "        # interchange current bounding box with a max score box\n",
    "        dbox_data[[0, max_index], :] = dbox_data[[max_index, 0], :]\n",
    "\n",
    "        # add max score box to the result\n",
    "        final_dbox.append(dbox_data[0, :-1])\n",
    "\n",
    "        # identifying overlap box coordinates\n",
    "        xx1 = torch.max(dbox_data[0, 0], dbox_data[1:, 0])\n",
    "        yy1 = torch.max(dbox_data[0, 1], dbox_data[1:, 1])\n",
    "        xx2 = torch.min(dbox_data[0, 2], dbox_data[1:, 2])\n",
    "        yy2 = torch.min(dbox_data[0, 3], dbox_data[1:, 3])\n",
    "\n",
    "        # get size of overlap sides\n",
    "        x_diff = xx2 - xx1 + 1\n",
    "        y_diff = yy2 - yy1 + 1\n",
    "\n",
    "        width = torch.max(x_diff, torch.tensor(0.0, device=device))\n",
    "        height = torch.max(y_diff, torch.tensor(0.0, device=device))\n",
    "\n",
    "        # IoU calculation\n",
    "        intersection_area = width * height\n",
    "        iou = intersection_area / (dbox_data[0, 5] + dbox_data[1:, 5] - intersection_area)\n",
    "\n",
    "        # score recalculation with different methods\n",
    "        if rescoring == 0:\n",
    "            score = torch.ones(iou.shape, device=device)\n",
    "            score[iou > iou_threshold] -= iou[iou > iou_threshold]\n",
    "        elif rescoring == 1:\n",
    "            score = torch.exp(-(iou * iou) / sigma)\n",
    "        dbox_data[1:, 4] *= score\n",
    "\n",
    "        final_box_pos = torch.where(dbox_data[1:, 4] >= score_threshold)[0]\n",
    "        dbox_data = dbox_data[final_box_pos + 1, :]\n",
    "\n",
    "    return torch.stack(final_dbox)"
   ]
  },
  {
   "cell_type": "markdown",
   "metadata": {},
   "source": [
    "### System Settings for CUDA"
   ]
  },
  {
   "cell_type": "code",
   "execution_count": 3,
   "metadata": {},
   "outputs": [],
   "source": [
    "def setup_system() -> None:\n",
    "    \"\"\"\n",
    "        System settings if CUDA was enabled\n",
    "    \"\"\"\n",
    "    torch.backends.cudnn_benchmark_enabled = True\n",
    "    torch.backends.cudnn.deterministic = True"
   ]
  },
  {
   "cell_type": "markdown",
   "metadata": {},
   "source": [
    "### Check Soft-NMS Implementation\n",
    "Function this will prepare inputs and call our soft-NMS implementation."
   ]
  },
  {
   "cell_type": "code",
   "execution_count": 4,
   "metadata": {},
   "outputs": [],
   "source": [
    "def check_soft_nms():\n",
    "    # CUDA flag\n",
    "    device_to_use = \"cuda\"\n",
    "\n",
    "    # bounding boxes and the appropriate confidence scores\n",
    "    # [x1, y1, x2, y2, confidence_score_0]\n",
    "    detection_boxes_data = torch.tensor([[2, 2, 5, 6, 0.8], [3, 1, 5, 5, 0.1], [4, 4, 6, 7, 0.9]],\n",
    "                                        dtype=torch.float)\n",
    "\n",
    "    detection_boxes_data_2 = torch.tensor([[100., 100., 500., 400., 0.85], [450., 350., 700., 600., 0.45],\n",
    "                                           [600., 100., 800., 300., 0.2]],\n",
    "                                          dtype=torch.float)\n",
    "\n",
    "    # CUDA settings\n",
    "    if device_to_use == \"cuda\" and torch.cuda.is_available():\n",
    "        setup_system()\n",
    "        detection_boxes_data = detection_boxes_data.to(device_to_use)\n",
    "        detection_boxes_data_2 = detection_boxes_data_2.to(device_to_use)\n",
    "\n",
    "    # Linear\n",
    "    print('Linear')\n",
    "    print(soft_nms_rescoring(dbox_data=detection_boxes_data, rescoring=0))\n",
    "    print(soft_nms_rescoring(dbox_data=detection_boxes_data_2, rescoring=0))\n",
    "\n",
    "    # Gaussian\n",
    "    print('Gaussion')\n",
    "    print(soft_nms_rescoring(dbox_data=detection_boxes_data))\n",
    "    print(soft_nms_rescoring(dbox_data=detection_boxes_data_2))"
   ]
  },
  {
   "cell_type": "markdown",
   "metadata": {},
   "source": [
    "For methods check execute the follwoing lines:"
   ]
  },
  {
   "cell_type": "code",
   "execution_count": 5,
   "metadata": {},
   "outputs": [
    {
     "name": "stdout",
     "output_type": "stream",
     "text": [
      "Linear\n",
      "tensor([[4.0000, 4.0000, 6.0000, 7.0000, 0.9000],\n",
      "        [2.0000, 2.0000, 5.0000, 6.0000, 0.8000],\n",
      "        [3.0000, 1.0000, 5.0000, 5.0000, 0.0478]], device='cuda:0')\n",
      "tensor([[1.0000e+02, 1.0000e+02, 5.0000e+02, 4.0000e+02, 8.5000e-01],\n",
      "        [4.5000e+02, 3.5000e+02, 7.0000e+02, 6.0000e+02, 4.5000e-01],\n",
      "        [6.0000e+02, 1.0000e+02, 8.0000e+02, 3.0000e+02, 2.0000e-01]],\n",
      "       device='cuda:0')\n",
      "Gaussion\n",
      "tensor([[4.0000, 4.0000, 6.0000, 7.0000, 0.9000],\n",
      "        [2.0000, 2.0000, 5.0000, 6.0000, 0.7192],\n",
      "        [3.0000, 1.0000, 5.0000, 5.0000, 0.0546]], device='cuda:0')\n",
      "tensor([[1.0000e+02, 1.0000e+02, 5.0000e+02, 4.0000e+02, 8.5000e-01],\n",
      "        [4.5000e+02, 3.5000e+02, 7.0000e+02, 6.0000e+02, 4.4981e-01],\n",
      "        [6.0000e+02, 1.0000e+02, 8.0000e+02, 3.0000e+02, 2.0000e-01]],\n",
      "       device='cuda:0')\n"
     ]
    }
   ],
   "source": [
    "if __name__ == '__main__':\n",
    "    # set to print upto 4 precision points\n",
    "    torch.set_printoptions(precision=4)\n",
    "    # \n",
    "    check_soft_nms()"
   ]
  },
  {
   "cell_type": "markdown",
   "metadata": {},
   "source": [
    "### Observations\n",
    "\n",
    "Let's consider the first detection points. \n",
    "\n",
    "Rectangles are listed in the sorted order of their score (max score first).\n",
    "\n",
    "---\n",
    "\n",
    "<div>\n",
    "    <table>\n",
    "        <tr><td><h3>Detected Bboxes (score)</h3></td> <td><h3>Linear Score</h3></td> <td><h3>Gaussian Score</h3></td> </tr>\n",
    "        <tr><td><h3>[4, 4, 6, 7] (0.9)</h3></td> <td><h3>0.9</h3></td> <td><h3>0.9</h3></td> </tr>\n",
    "        <tr><td><h3>[2, 2, 5, 6] (0.8)</h3></td> <td><h3>0.8</h3></td> <td><h3>0.7192</h3></td> </tr>\n",
    "        <tr><td><h3>[3, 1, 5, 5] (0.1)</h3></td> <td><h3>0.0478</h3></td> <td><h3>0.05</h3></td> </tr>\n",
    "    </table>\n",
    "</div>\n",
    "\n",
    "- As 0.9 is the maximum score, so it will remain the same. \n",
    "\n",
    "- The second rectangle is overlapping with the first rectangle, but IoU is less than the IoU threshold (`0.5`), so its score does not change by linear soft-NMS. Gaussian soft-NMS is not dependent on IoU threshold but just IoU and sigma value. So the second rectangle score is penalized by Gaussian soft-NMS. \n",
    "\n",
    "- The third rectangle IoU with the first rectangle is more than the IoU threshold (`0.5`), so it is penalized by linear soft-NMS as well. As it is changed from `0.1` to `0.0478`, we can say IoU should be `1-0.478`."
   ]
  }
 ],
 "metadata": {
  "jupytext": {
   "encoding": "# -*- coding: utf-8 -*-",
   "formats": "ipynb,py:percent"
  },
  "kernelspec": {
   "display_name": "Python 3",
   "language": "python",
   "name": "python3"
  },
  "language_info": {
   "codemirror_mode": {
    "name": "ipython",
    "version": 3
   },
   "file_extension": ".py",
   "mimetype": "text/x-python",
   "name": "python",
   "nbconvert_exporter": "python",
   "pygments_lexer": "ipython3",
   "version": "3.7.3"
  }
 },
 "nbformat": 4,
 "nbformat_minor": 2
}
