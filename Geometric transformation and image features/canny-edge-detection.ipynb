{
 "cells": [
  {
   "cell_type": "markdown",
   "metadata": {},
   "source": [
    "# <font style = \"color:rgb(50,120,229)\">Edge Detection</font>\n",
    "\n",
    "## <font style=\"color:rgb(50,120,229)\"> Overview</font>\n",
    "\n",
    "<center> <img src = \"https://www.learnopencv.com/wp-content/uploads/2017/12/opcv4face-w2-m2.3.3.png\" width = 500/></center>\n",
    "\n",
    "&nbsp;\n",
    "Can you identify the animal in the above picture? Amazingly, everyone can. Even though the information in the above picture is many orders of magnitude less than the information contained in a picture of a dog, we can still easily say it is a dog. \n",
    "\n",
    "While processing images, we want to simplify the image so it is easier for vision and learning algorithms to process them. Edge detection provides such a simplification and it is therefore one of the most common low level operations in Computer Vision. \n",
    "\n",
    "In edge detection, given an image, we create a second, binary image which is dark (pixel value = 0) everywhere except on edges. For our purposes, edges will be defined as pixels with sharp intensity discontinuities."
   ]
  },
  {
   "cell_type": "markdown",
   "metadata": {},
   "source": [
    "## <font style = \"color:rgb(50,120,229)\">Canny Edge Detection</font>\n",
    "\n",
    "**Canny edge detection** is the most widely-used edge detector. For many of the applications that require edge detection, Canny edge detection is sufficient. \n",
    "\n",
    "Canny edge detection has the following three steps:\n",
    "\n",
    "1. **Gradient calculations:**  Edges are pixels where intensity changes abruptly. From previous modules, we know that the magnitude of gradient is very high at edge pixels. Therefore, gradient calculation is the first step in Canny edge detection.\n",
    "\n",
    "2. **Non-maxima suppression:** In the real world, the edges in an image are not sharp. The magnitude of gradient is very high not only at the real edge location, but also in a small neighborhood around it. Ideally, we want an edge to be represented by a single, pixel-thin contour. Simply thresholding the gradient leads to a fat contour that is several pixels thick.\n",
    "      Fortunately, this problem can be eliminated by selecting the pixel with maximum gradient magnitude in a small neighborhood (say 3x3 neighborhood) of every pixel in the gradient image. The name non-maxima suppression comes from the fact that we eliminate (i.e. set to zero) all gradients except the maximum one in small 3x3 neighborhoods over the entire image.\n",
    "\n",
    "3. **Hysteresis thresholding:** After non-maxima suppression, we could threshold the gradient image to obtain a new binary image which is black in all places except for pixels where the gradient is very high. This kind of thresholding would naively exclude a lot of edges because, in real world images, edges tend to fade in and out along their length. For example, an edge may be strong in the middle but fade out at the two ends.\n",
    "      To fix this problem, Canny edge detection uses** **two thresholds. First, a higher threshold is used to select pixels with very high gradients. We say these pixels have a strong edge. Second, a lower threshold is used to obtain new pixels that are potential edge pixels. We say these pixels have a weak edge. A weak edge pixel can be re-classified as a strong edge if one of its neighbor is a strong edge. The weak edges that are not reclassified as strong are dropped from the final edge map. \n",
    "\n",
    "**<font style = \"color:rgb(255,0,0)\">Note:</font>** According to Wikipedia, the word [hysteresis](https://en.wikipedia.org/wiki/Hysteresis) means \"the dependence of the state of a system on its history.\" In thresholding, it is the dependence of the state ( edge / no edge ) of a pixel based on its neighbor. "
   ]
  },
  {
   "cell_type": "markdown",
   "metadata": {},
   "source": [
    "## <font style = \"color:rgb(50,120,229)\">Canny Edge Detection in OpenCV</font>\n",
    "\n",
    "The most common usage of [**`Canny`**](https://docs.opencv.org/4.1.0/dd/d1a/group__imgproc__feature.html#ga2a671611e104c093843d7b7fc46d24af) edge detector in OpenCV is shown below."
   ]
  },
  {
   "cell_type": "markdown",
   "metadata": {},
   "source": [
    "#### <font style = \"color:rgb(8,133,37)\">Function Syntax</font>\n",
    "\n",
    "```python\n",
    "edges\t=\tcv.Canny(\tdx, dy, threshold1, threshold2[, edges[, L2gradient]]\t)\n",
    "```\n",
    "\n",
    "**Parameters**\n",
    "- **`dx`**\t16-bit x derivative of input image (CV_16SC1 or CV_16SC3).\n",
    "- **`dy`**\t16-bit y derivative of input image (same type as dx).\n",
    "- **`edges`**\toutput edge map; single channels 8-bit image, which has the same size as image .\n",
    "- **`threshold1`**\tfirst threshold for the hysteresis procedure.\n",
    "- **`threshold2`**\tsecond threshold for the hysteresis procedure.\n",
    "- **`L2gradient`**\ta flag, indicating whether a more accurate L2 norm =√(dI/dx)2+(dI/dy)2 should be used to calculate the image gradient magnitude ( L2gradient=true ), or whether the default L1 norm =|dI/dx|+|dI/dy| is enough ( L2gradient=false ).\n",
    "\n",
    "**If you want better accuracy at the expense of speed, you can set the L2gradient flag to true.**"
   ]
  },
  {
   "cell_type": "markdown",
   "metadata": {},
   "source": [
    "**<font style = \"color:rgb(255,0,0)\">Note:</font>** In the tutorial below, we have also included Gaussian blurring before edge detection. The amount of blur gives additional control over edge detection even though the Sobel operator implicitly blurs the image before gradient calculation. \n",
    "\n",
    "The tutorial below allows you to experiment with Canny edge detection parameters using trackbars. "
   ]
  },
  {
   "cell_type": "markdown",
   "metadata": {},
   "source": [
    "### <font style = \"color:rgb(8,133,37)\">Python [Canny Edge Detection] [canny.py]</font>"
   ]
  },
  {
   "cell_type": "code",
   "execution_count": 1,
   "metadata": {
    "collapsed": true
   },
   "outputs": [],
   "source": [
    "import cv2\n",
    "import numpy as np\n",
    "from dataPath import DATA_PATH"
   ]
  },
  {
   "cell_type": "markdown",
   "metadata": {},
   "source": [
    "The four parameters that you can control in this tutorial are:\n",
    "+ lowTreshold\n",
    "+ highTreshold\n",
    "+ apertureSize (this takes values 3, 5 and 7 only)\n",
    "+ blurAmount"
   ]
  },
  {
   "cell_type": "code",
   "execution_count": 2,
   "metadata": {
    "collapsed": true
   },
   "outputs": [],
   "source": [
    "lowThreshold = 50\n",
    "highThreshold = 100\n",
    "\n",
    "maxThreshold = 1000\n",
    "\n",
    "apertureSizes = [3, 5, 7]\n",
    "maxapertureIndex = 2\n",
    "apertureIndex = 0\n",
    "\n",
    "blurAmount = 0\n",
    "maxBlurAmount = 20"
   ]
  },
  {
   "cell_type": "markdown",
   "metadata": {},
   "source": [
    "The function applyCanny is called whenever any trackbar value is changed. The image is first blurred. The amount of blur depends on blurAmount. A Sobel apertureSize (3, 5 or 7) is chosen based on the trackbar value. Finally, the Canny function is called and results are displayed."
   ]
  },
  {
   "cell_type": "code",
   "execution_count": 12,
   "metadata": {
    "collapsed": true
   },
   "outputs": [],
   "source": [
    "# Display images\n",
    "import matplotlib.pyplot as plt\n",
    "%matplotlib inline"
   ]
  },
  {
   "cell_type": "code",
   "execution_count": 13,
   "metadata": {
    "collapsed": true
   },
   "outputs": [],
   "source": [
    "# Function for all trackbar calls\n",
    "def applyCanny():\n",
    "    # Blur the image before edge detection\n",
    "    if(blurAmount > 0):\n",
    "        blurredSrc = cv2.GaussianBlur(src, \n",
    "                        (2 * blurAmount + 1, 2 * blurAmount + 1), 0);\n",
    "    else:\n",
    "        blurredSrc = src.copy()\n",
    "\n",
    "    # Canny requires aperture size to be odd\n",
    "    apertureSize = apertureSizes[apertureIndex];\n",
    "\n",
    "    # Apply canny to detect the images\n",
    "    edges = cv2.Canny( blurredSrc, \n",
    "                        lowThreshold, \n",
    "                        highThreshold, \n",
    "                        apertureSize = apertureSize )\n",
    "    plt.imshow(edges[...,::-1])"
   ]
  },
  {
   "cell_type": "markdown",
   "metadata": {},
   "source": [
    "This function is called when the lower threshold is changed"
   ]
  },
  {
   "cell_type": "code",
   "execution_count": 14,
   "metadata": {
    "collapsed": true
   },
   "outputs": [],
   "source": [
    "# Function to update low threshold value\n",
    "def updateLowThreshold( *args ):\n",
    "    global lowThreshold\n",
    "    lowThreshold = args[0]\n",
    "    applyCanny()\n",
    "    pass"
   ]
  },
  {
   "cell_type": "markdown",
   "metadata": {},
   "source": [
    "This function is called when the higher threshold is changed"
   ]
  },
  {
   "cell_type": "code",
   "execution_count": 15,
   "metadata": {
    "collapsed": true
   },
   "outputs": [],
   "source": [
    "# Function to update high threshold value\n",
    "def updateHighThreshold( *args ):\n",
    "    global highThreshold\n",
    "    highThreshold = args[0]\n",
    "    applyCanny()\n",
    "    pass"
   ]
  },
  {
   "cell_type": "markdown",
   "metadata": {},
   "source": [
    "This function is called when the blur amount is changed"
   ]
  },
  {
   "cell_type": "code",
   "execution_count": 16,
   "metadata": {
    "collapsed": true
   },
   "outputs": [],
   "source": [
    "# Function to update blur amount\n",
    "def updateBlurAmount( *args ):\n",
    "    global blurAmount\n",
    "    blurAmount = args[0]\n",
    "    applyCanny()\n",
    "    pass"
   ]
  },
  {
   "cell_type": "markdown",
   "metadata": {},
   "source": [
    "This function is called when the aperture size is changed"
   ]
  },
  {
   "cell_type": "code",
   "execution_count": 17,
   "metadata": {
    "collapsed": true
   },
   "outputs": [],
   "source": [
    "# Function to update aperture index\n",
    "def updateApertureIndex( *args ):\n",
    "    global apertureIndex\n",
    "    apertureIndex = args[0]\n",
    "    applyCanny()\n",
    "    pass"
   ]
  },
  {
   "cell_type": "markdown",
   "metadata": {},
   "source": [
    "Here, the image is read and trackbars are set to control the values of lowTreshold, highTreshold, apertureSize and blurAmount."
   ]
  },
  {
   "cell_type": "code",
   "execution_count": 18,
   "metadata": {
    "collapsed": true
   },
   "outputs": [],
   "source": [
    "# Read sample image\n",
    "src = cv2.imread('../data/images/sample.jpg', cv2.IMREAD_GRAYSCALE)\n",
    "\n",
    "edges = src.copy()\n",
    "# Display images\n",
    "cv2.imshow(\"Edges\", src)\n",
    "cv2.namedWindow(\"Edges\", cv2.WINDOW_AUTOSIZE)\n",
    "\n",
    "# Trackbar to control the low threshold\n",
    "cv2.createTrackbar( \"Low Threshold\", \"Edges\", lowThreshold,\n",
    "            maxThreshold, updateLowThreshold)\n",
    "  \n",
    "# Trackbar to control the high threshold\n",
    "cv2.createTrackbar( \"High Threshold\", \"Edges\", highThreshold,\n",
    "            maxThreshold, updateHighThreshold)\n",
    "  \n",
    "# Trackbar to control the aperture size\n",
    "cv2.createTrackbar( \"aperture Size\", \"Edges\", apertureIndex,\n",
    "            maxapertureIndex, updateApertureIndex)\n",
    "  \n",
    "# Trackbar to control the blur\n",
    "cv2.createTrackbar( \"Blur\", \"Edges\", blurAmount, maxBlurAmount,\n",
    "            updateBlurAmount)"
   ]
  },
  {
   "cell_type": "markdown",
   "metadata": {},
   "source": [
    "## <font style = \"color:rgb(50,120,229)\">Diving Deep into Canny Parameters</font>\n",
    "\n",
    "If you play enough with the code provided in this section, you will notice the following about different parameters :\n",
    "\n",
    "1. **lowThreshold :** Keeping all other parameters constant, when you lower the lowThreshold, broken edges tend to get connected. If you increase it, continuous edges may break. \n",
    "\n",
    "2. **highThreshold :** Keeping all other parameters constant, when you increase highThreshold, fewer edges are detected. On the other hand, decreasing highThreshold leads to more edges. \n",
    "\n",
    "3. **apertureSize :** Increasing the aperture size leads to many more edges. This is simply because larger Sobel kernels return larger gradient values. Low and high thresholds should be changed when aperture size is changed.\n",
    "\n",
    "4. **blurAmount :** When the blur amount is increased, noise in the image is reduced, and spurious edges are removed. As a result, fewer edges are detected.\n"
   ]
  },
  {
   "cell_type": "code",
   "execution_count": null,
   "metadata": {
    "collapsed": true
   },
   "outputs": [],
   "source": []
  }
 ],
 "metadata": {
  "kernelspec": {
   "display_name": "Python 3 [3.6]",
   "language": "python",
   "name": "python3"
  },
  "language_info": {
   "codemirror_mode": {
    "name": "ipython",
    "version": 3
   },
   "file_extension": ".py",
   "mimetype": "text/x-python",
   "name": "python",
   "nbconvert_exporter": "python",
   "pygments_lexer": "ipython3",
   "version": "3.6.4"
  }
 },
 "nbformat": 4,
 "nbformat_minor": 2
}
